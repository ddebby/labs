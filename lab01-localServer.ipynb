{
 "cells": [
  {
   "cell_type": "markdown",
   "metadata": {
    "colab_type": "text",
    "deletable": true,
    "editable": true,
    "id": "tCMJwxTP6wpE"
   },
   "source": [
    "# AI Lab — 动手搭建第一个AI项目\n",
    "\n",
    "在本实验中，我们将从头搭建一个类似于你画我猜的项目，创建简单的工具来识别图纸并输出当前图纸的名称。\n",
    "\n",
    "你可以先行在演示环境中尝试一番，提前感受下你将完成的项目情况，[点击进入](http://139.219.128.254:8008/)。\n",
    "\n",
    "![](https://github.com/ddebby/labs/blob/master/pics/1.png?raw=1)\n",
    "\n",
    "**项目的开发过程包括如下基本步骤：**\n",
    "> 1. 数据的准备\n",
    "> 2. 相关配置环境的准备\n",
    "> 3. 数据预处理\n",
    "> 4. 模型的选型及设计\n",
    "> 5. 模型的部署及测试\n",
    "\n",
    "**在本实验中将用到如下工具和技能：**\n",
    "- TensorFlow >v1.5.0\n",
    "- Keras\n",
    "- TensorFlow.js\n",
    "- numpy\n",
    "\n",
    "![](https://github.com/ddebby/labs/blob/master/pics/3.png?raw=1)"
   ]
  },
  {
   "cell_type": "markdown",
   "metadata": {
    "colab_type": "text",
    "deletable": true,
    "editable": true,
    "id": "-eM-RwjL6wpF"
   },
   "source": [
    "## 1. 数据准备\n",
    "\n",
    "数据集方面，我们使用Google开源的涂鸦数据集：[The Quick, Draw! Dataset](https://github.com/googlecreativelab/quickdraw-dataset)\n",
    "\n",
    "![](https://github.com/ddebby/labs/blob/master/pics/2.jpg?raw=1)\n",
    "它共有5000万副涂鸦画，覆盖了345个分类。为了减少实验中的训练时间，我们在本实验中使用了其中的100个常用分类。\n",
    "\n",
    "每张图像通过如下信息进行定义：\n",
    "\n",
    "| Key         | Type                    | Description                                                  |\n",
    "| ----------- | ----------------------- | ------------------------------------------------------------ |\n",
    "| key_id      | 64-bit unsigned integer | A unique identifier across all   drawings.                   |\n",
    "| word        | string                  | Category the player was prompted to   draw.                  |\n",
    "| recognized  | boolean                 | Whether the word was recognized by the   game.               |\n",
    "| timestamp   | datetime                | When the drawing was created.                                |\n",
    "| countrycode | string                  | A two letter country code ([ISO 3166-1   alpha-2](https://en.wikipedia.org/wiki/ISO_3166-1_alpha-2)) of where the player was located. |\n",
    "| drawing     | string                  | A JSON array representing the vector   drawing               |\n",
    "\n",
    "比如：\n",
    "\n",
    "```python\n",
    "  { \n",
    "    \"key_id\":\"5891796615823360\",\n",
    "    \"word\":\"nose\",\n",
    "    \"countrycode\":\"AE\",\n",
    "    \"timestamp\":\"2017-03-01 20:41:36.70725 UTC\",\n",
    "    \"recognized\":true,\n",
    "    \"drawing\":[[[129,128,129,129,130,130,131,132,132,133,133,133,133,...]]]\n",
    "  }\n",
    "```\n",
    "\n",
    "在本实验中，我们使用 `.npy` 存储的数据格式，可以直接使用`numpy`以矩阵的形式加载数据，方便处理。"
   ]
  },
  {
   "cell_type": "markdown",
   "metadata": {
    "colab_type": "text",
    "deletable": true,
    "editable": true,
    "id": "NO_ZRo-Z7ZE7"
   },
   "source": [
    "### 数据下载\n",
    "> 如果使用本脚本，相关内容已经完成下载，不需要再单独下载内容！"
   ]
  },
  {
   "cell_type": "markdown",
   "metadata": {
    "colab_type": "text",
    "deletable": true,
    "editable": true,
    "id": "-cfMLaCG6wpG"
   },
   "source": [
    "### 查看类别情况\n",
    "> 相关类名进行了汉化处理"
   ]
  },
  {
   "cell_type": "code",
   "execution_count": 1,
   "metadata": {
    "colab": {
     "base_uri": "https://localhost:8080/",
     "height": 50
    },
    "colab_type": "code",
    "collapsed": false,
    "deletable": true,
    "editable": true,
    "id": "_ygU18OI6wpH",
    "outputId": "0a480348-ac43-467f-de36-8444b346ca96"
   },
   "outputs": [
    {
     "name": "stdout",
     "output_type": "stream",
     "text": [
      "--2018-09-11 09:48:14--  https://github.com/ddebby/labs/blob/master/class_names.txt\n",
      "Resolving github.com (github.com)... 52.74.223.119, 13.250.177.223, 13.229.188.59\n",
      "Connecting to github.com (github.com)|52.74.223.119|:443... connected.\n",
      "HTTP request sent, awaiting response... 200 OK\n",
      "Length: unspecified [text/html]\n",
      "Saving to: ‘class_names.txt.1’\n",
      "\n",
      "class_names.txt.1       [  <=>               ]  57.96K   238KB/s    in 0.2s    \n",
      "\n",
      "2018-09-11 09:48:15 (238 KB/s) - ‘class_names.txt.1’ saved [59346]\n",
      "\n"
     ]
    }
   ],
   "source": [
    "!wget https://github.com/ddebby/labs/blob/master/class_names.txt\n",
    "f = open(\"class_names.txt\",\"r\")\n",
    "# And for reading use\n",
    "classes = f.readlines()\n",
    "f.close()\n",
    "\n",
    "classes = [c.replace('\\n','').replace(' ','_') for c in classes]"
   ]
  },
  {
   "cell_type": "code",
   "execution_count": 2,
   "metadata": {
    "colab": {},
    "colab_type": "code",
    "collapsed": false,
    "deletable": true,
    "editable": true,
    "id": "QMYvhn5F6wpK",
    "outputId": "96a484a3-cfb6-4448-d9d0-b89831819d9a"
   },
   "outputs": [
    {
     "data": {
      "text/plain": [
       "['螺丝刀',\n",
       " '手表',\n",
       " '蝴蝶',\n",
       " '刀剑',\n",
       " '猫',\n",
       " '猎枪',\n",
       " '眼睛',\n",
       " '棒棒糖',\n",
       " '棒球',\n",
       " '红绿灯',\n",
       " '太阳',\n",
       " '钢盔',\n",
       " '桥',\n",
       " '闹钟',\n",
       " '鼓',\n",
       " '书',\n",
       " '扫帚',\n",
       " '风扇',\n",
       " '剪刀',\n",
       " '云',\n",
       " '帐篷',\n",
       " '钟表',\n",
       " '耳机(头戴)',\n",
       " '自行车',\n",
       " '停止标志',\n",
       " '桌子',\n",
       " '甜甜圈',\n",
       " '雨伞',\n",
       " '笑脸',\n",
       " '枕头',\n",
       " '床',\n",
       " '锯',\n",
       " '电灯泡',\n",
       " '铁锹',\n",
       " '鸟',\n",
       " '注射器',\n",
       " '咖啡杯',\n",
       " '月亮',\n",
       " '冰激凌',\n",
       " '胡须',\n",
       " '手机',\n",
       " '短裤',\n",
       " '铁砧',\n",
       " '收音机',\n",
       " '椅子',\n",
       " '星星',\n",
       " '门',\n",
       " '人脸',\n",
       " '蘑菇',\n",
       " '树',\n",
       " '来福枪',\n",
       " '相机',\n",
       " '闪电',\n",
       " '花',\n",
       " '篮球',\n",
       " '轮子',\n",
       " '锤子',\n",
       " '帽子',\n",
       " '小刀',\n",
       " '跳水板',\n",
       " '正方形',\n",
       " '茶杯',\n",
       " '山',\n",
       " '苹果',\n",
       " '汤匙',\n",
       " '钥匙',\n",
       " '铅笔',\n",
       " '直线',\n",
       " '梯子',\n",
       " '三角形',\n",
       " 'T恤',\n",
       " '哑铃',\n",
       " '麦克风',\n",
       " '蛇',\n",
       " '短裤',\n",
       " '手提箱',\n",
       " '笔记本电脑',\n",
       " '回形针',\n",
       " '彩虹',\n",
       " '蜡烛',\n",
       " '面包',\n",
       " '蜘蛛',\n",
       " '信封',\n",
       " '圆圈',\n",
       " '电源插座',\n",
       " '牙齿',\n",
       " '热狗',\n",
       " '煎锅',\n",
       " '长凳',\n",
       " '吊扇',\n",
       " '网球拍',\n",
       " '汽车',\n",
       " '胡须',\n",
       " '斧子',\n",
       " '棒球球棒',\n",
       " '披萨',\n",
       " '葡萄',\n",
       " '眼睛',\n",
       " '饼干',\n",
       " '飞机']"
      ]
     },
     "execution_count": 2,
     "metadata": {},
     "output_type": "execute_result"
    }
   ],
   "source": [
    "classes"
   ]
  },
  {
   "cell_type": "markdown",
   "metadata": {
    "colab_type": "text",
    "deletable": true,
    "editable": true,
    "id": "-f3KiFfA6wpQ"
   },
   "source": [
    "### 查看文件\n",
    "所有文件都是以`.npy`的格式存储在 `data`目录下"
   ]
  },
  {
   "cell_type": "code",
   "execution_count": 4,
   "metadata": {
    "colab": {
     "base_uri": "https://localhost:8080/",
     "height": 403
    },
    "colab_type": "code",
    "collapsed": false,
    "deletable": true,
    "editable": true,
    "id": "ysr6riHL6wpR",
    "outputId": "84184542-e11c-4081-9231-8812af72ddae"
   },
   "outputs": [
    {
     "name": "stdout",
     "output_type": "stream",
     "text": [
      "total 10604M\n",
      "-rw-r--r-- 1 gaoc root 114M Sep 11 06:34 airplane.npy\n",
      "-rw-r--r-- 1 gaoc root  93M Sep 11 07:33 alarm clock.npy\n",
      "-rw-r--r-- 1 gaoc root  95M Sep 11 06:32 anvil.npy\n",
      "-rw-r--r-- 1 gaoc root 109M Sep 11 07:22 apple.npy\n",
      "-rw-r--r-- 1 gaoc root  93M Sep 11 07:33 axe.npy\n",
      "-rw-r--r-- 1 gaoc root  93M Sep 11 06:32 baseball bat.npy\n",
      "-rw-r--r-- 1 gaoc root 102M Sep 11 07:35 baseball.npy\n",
      "-rw-r--r-- 1 gaoc root 101M Sep 11 07:33 basketball.npy\n",
      "-rw-r--r-- 1 gaoc root 124M Sep 11 07:34 beard.npy\n",
      "-rw-r--r-- 1 gaoc root  86M Sep 11 07:22 bed.npy\n",
      "-rw-r--r-- 1 gaoc root  97M Sep 11 07:34 bench.npy\n",
      "-rw-r--r-- 1 gaoc root  95M Sep 11 07:35 bicycle.npy\n",
      "-rw-r--r-- 1 gaoc root 100M Sep 11 07:34 bird.npy\n",
      "-rw-r--r-- 1 gaoc root  90M Sep 11 06:32 book.npy\n",
      "-rw-r--r-- 1 gaoc root  91M Sep 11 06:32 bread.npy\n",
      "-rw-r--r-- 1 gaoc root 100M Sep 11 07:34 bridge.npy\n",
      "-rw-r--r-- 1 gaoc root  88M Sep 11 07:33 broom.npy\n",
      "-rw-r--r-- 1 gaoc root  89M Sep 11 07:34 butterfly.npy\n",
      "-rw-r--r-- 1 gaoc root  97M Sep 11 07:33 camera.npy\n",
      "-rw-r--r-- 1 gaoc root 106M Sep 11 07:34 candle.npy\n",
      "-rw-r--r-- 1 gaoc root 137M Sep 11 07:33 car.npy\n",
      "-rw-r--r-- 1 gaoc root  93M Sep 11 07:34 cat.npy\n",
      "\u001b[Km--More--\u001b[m"
     ]
    }
   ],
   "source": [
    "!ls /data2/ailab -l --b=m | more"
   ]
  },
  {
   "cell_type": "markdown",
   "metadata": {
    "colab_type": "text",
    "deletable": true,
    "editable": true,
    "id": "uEdnbBVXAI-X"
   },
   "source": [
    "## 2. 导入基本模块"
   ]
  },
  {
   "cell_type": "code",
   "execution_count": 6,
   "metadata": {
    "colab": {},
    "colab_type": "code",
    "collapsed": false,
    "deletable": true,
    "editable": true,
    "id": "J2FYrPgOKh6t"
   },
   "outputs": [
    {
     "name": "stderr",
     "output_type": "stream",
     "text": [
      "Using TensorFlow backend.\n"
     ]
    }
   ],
   "source": [
    "import os\n",
    "import glob\n",
    "import numpy as np\n",
    "import keras\n",
    "from keras import layers\n",
    "#from tensorflow import keras \n",
    "import tensorflow as tf"
   ]
  },
  {
   "cell_type": "code",
   "execution_count": 7,
   "metadata": {
    "colab": {
     "base_uri": "https://localhost:8080/",
     "height": 34
    },
    "colab_type": "code",
    "collapsed": false,
    "deletable": true,
    "editable": true,
    "id": "4afZ0x-h6wpY",
    "outputId": "cc4b9482-91a4-42c9-b597-0053c968c8f1"
   },
   "outputs": [
    {
     "name": "stdout",
     "output_type": "stream",
     "text": [
      "1.4.0\n"
     ]
    }
   ],
   "source": [
    "print(tf.__version__)"
   ]
  },
  {
   "cell_type": "code",
   "execution_count": 8,
   "metadata": {
    "colab": {
     "base_uri": "https://localhost:8080/",
     "height": 34
    },
    "colab_type": "code",
    "collapsed": false,
    "deletable": true,
    "editable": true,
    "id": "mq6y6Mkv-iWV",
    "outputId": "60fb87ba-fd15-4833-8b07-288ed306c92e"
   },
   "outputs": [
    {
     "name": "stdout",
     "output_type": "stream",
     "text": [
      "2.0.6\n"
     ]
    }
   ],
   "source": [
    "print(keras.__version__)"
   ]
  },
  {
   "cell_type": "markdown",
   "metadata": {
    "colab_type": "text",
    "deletable": true,
    "editable": true,
    "id": "6o30ipBPAQ5Y"
   },
   "source": [
    "## 3. 加载数据 "
   ]
  },
  {
   "cell_type": "markdown",
   "metadata": {
    "colab_type": "text",
    "deletable": true,
    "editable": true,
    "id": "UBq3GXEKAYuO"
   },
   "source": [
    "每个类别的数据在模型上可用作形状为 [N，784] 的 numpy 数组，其中 N 是该特定类的图像数。"
   ]
  },
  {
   "cell_type": "code",
   "execution_count": 9,
   "metadata": {
    "colab": {},
    "colab_type": "code",
    "collapsed": true,
    "deletable": true,
    "editable": true,
    "id": "6HEIgQNHYQnl"
   },
   "outputs": [],
   "source": [
    "def load_data(root, vfold_ratio=0.2, max_items_per_class= 4000 ):\n",
    "    all_files = glob.glob(os.path.join(root, '*.npy'))\n",
    "\n",
    "    #initialize variables \n",
    "    x = np.empty([0, 784])\n",
    "    y = np.empty([0])\n",
    "    class_names = []\n",
    "\n",
    "    #load each data file \n",
    "    for idx, file in enumerate(all_files):\n",
    "        data = np.load(file)\n",
    "        data = data[0: max_items_per_class, :]\n",
    "        labels = np.full(data.shape[0], idx)\n",
    "\n",
    "        x = np.concatenate((x, data), axis=0)\n",
    "        y = np.append(y, labels)\n",
    "\n",
    "        class_name, ext = os.path.splitext(os.path.basename(file))\n",
    "        class_names.append(class_name)\n",
    "\n",
    "    data = None\n",
    "    labels = None\n",
    "    \n",
    "    #randomize the dataset \n",
    "    permutation = np.random.permutation(y.shape[0])\n",
    "    x = x[permutation, :]\n",
    "    y = y[permutation]\n",
    "\n",
    "    #separate into training and testing \n",
    "    vfold_size = int(x.shape[0]/100*(vfold_ratio*100))\n",
    "\n",
    "    x_test = x[0:vfold_size, :]\n",
    "    y_test = y[0:vfold_size]\n",
    "\n",
    "    x_train = x[vfold_size:x.shape[0], :]\n",
    "    y_train = y[vfold_size:y.shape[0]]\n",
    "    return x_train, y_train, x_test, y_test, class_names"
   ]
  },
  {
   "cell_type": "code",
   "execution_count": 10,
   "metadata": {
    "colab": {},
    "colab_type": "code",
    "collapsed": true,
    "deletable": true,
    "editable": true,
    "id": "K6uUjN-WL2Y9"
   },
   "outputs": [],
   "source": [
    "x_train, y_train, x_test, y_test, class_names = load_data('/data2/ailab')\n",
    "num_classes = len(class_names)\n",
    "image_size = 28"
   ]
  },
  {
   "cell_type": "code",
   "execution_count": 11,
   "metadata": {
    "colab": {
     "base_uri": "https://localhost:8080/",
     "height": 34
    },
    "colab_type": "code",
    "collapsed": false,
    "deletable": true,
    "editable": true,
    "id": "VhGEDS0SMgLK",
    "outputId": "ec7a513b-b937-4b94-b95e-e69451e0ad55"
   },
   "outputs": [
    {
     "name": "stdout",
     "output_type": "stream",
     "text": [
      "320000 80000\n"
     ]
    }
   ],
   "source": [
    "print(len(x_train),len(x_test))"
   ]
  },
  {
   "cell_type": "code",
   "execution_count": 12,
   "metadata": {
    "colab": {
     "base_uri": "https://localhost:8080/",
     "height": 34
    },
    "colab_type": "code",
    "collapsed": false,
    "deletable": true,
    "editable": true,
    "id": "SaXAfkEj_LvN",
    "outputId": "d588b8ae-234f-423c-9832-248798ff9079"
   },
   "outputs": [
    {
     "data": {
      "text/plain": [
       "(320000, 784)"
      ]
     },
     "execution_count": 12,
     "metadata": {},
     "output_type": "execute_result"
    }
   ],
   "source": [
    "x_train.shape"
   ]
  },
  {
   "cell_type": "markdown",
   "metadata": {
    "colab_type": "text",
    "deletable": true,
    "editable": true,
    "id": "rNZmQvBWBBHE"
   },
   "source": [
    "### 随机查看一组数据"
   ]
  },
  {
   "cell_type": "code",
   "execution_count": 16,
   "metadata": {
    "colab": {
     "base_uri": "https://localhost:8080/",
     "height": 282
    },
    "colab_type": "code",
    "collapsed": false,
    "deletable": true,
    "editable": true,
    "id": "KfpDaHRkyMQC",
    "outputId": "a18d7d98-eb29-4cfe-d1fe-4aa0e24a2734"
   },
   "outputs": [
    {
     "name": "stdout",
     "output_type": "stream",
     "text": [
      "ceiling fan\n"
     ]
    },
    {
     "data": {
      "image/png": "[encoded data removed]",
      "text/plain": [
       "<matplotlib.figure.Figure at 0x7f4488c2c208>"
      ]
     },
     "metadata": {},
     "output_type": "display_data"
    }
   ],
   "source": [
    "import matplotlib.pyplot as plt\n",
    "from random import randint\n",
    "%matplotlib inline  \n",
    "idx = randint(0, len(x_train))\n",
    "plt.imshow(x_train[idx].reshape(28,28)) \n",
    "print(class_names[int(y_train[idx].item())])"
   ]
  },
  {
   "cell_type": "markdown",
   "metadata": {
    "colab_type": "text",
    "deletable": true,
    "editable": true,
    "id": "n8InHz5NBFrV"
   },
   "source": [
    "### 数据预处理\n",
    "- 将图像数据存储格式转化为[28,28,1]的矩阵表示；\n",
    "- 将标签数据转化为One-hot表示，每个类别使用一个100维的向量描述。"
   ]
  },
  {
   "cell_type": "code",
   "execution_count": 17,
   "metadata": {
    "colab": {},
    "colab_type": "code",
    "collapsed": true,
    "deletable": true,
    "editable": true,
    "id": "p2GHUq7D2r9e"
   },
   "outputs": [],
   "source": [
    "# Reshape and normalize\n",
    "x_train = x_train.reshape(x_train.shape[0], image_size, image_size, 1).astype('float32')\n",
    "x_test = x_test.reshape(x_test.shape[0], image_size, image_size, 1).astype('float32')\n",
    "\n",
    "x_train /= 255.0\n",
    "x_test /= 255.0\n",
    "\n",
    "# Convert class vectors to class matrices\n",
    "y_train = keras.utils.to_categorical(y_train, num_classes)\n",
    "y_test = keras.utils.to_categorical(y_test, num_classes)"
   ]
  },
  {
   "cell_type": "code",
   "execution_count": 18,
   "metadata": {
    "colab": {
     "base_uri": "https://localhost:8080/",
     "height": 34
    },
    "colab_type": "code",
    "collapsed": false,
    "deletable": true,
    "editable": true,
    "id": "ZZ8sKaEJAABj",
    "outputId": "420acc53-ecfa-4630-92e1-7150f31838f6"
   },
   "outputs": [
    {
     "name": "stdout",
     "output_type": "stream",
     "text": [
      "(320000, 28, 28, 1) (320000, 100)\n"
     ]
    }
   ],
   "source": [
    "print(x_train.shape,y_train.shape)"
   ]
  },
  {
   "cell_type": "markdown",
   "metadata": {
    "colab_type": "text",
    "deletable": true,
    "editable": true,
    "id": "rL6XAb4hBMSc"
   },
   "source": [
    "## 4. 建模\n",
    "我们将创建一个简单的 CNN。 请注意，参数数量越少，模型越简单越好。 实际上，我们将在浏览器转换后运行模型，并且我们希望让模型快速运行并进行预测。 以下模型包含 3 个转换层和 2 个密集层。"
   ]
  },
  {
   "cell_type": "code",
   "execution_count": 20,
   "metadata": {
    "colab": {
     "base_uri": "https://localhost:8080/",
     "height": 454
    },
    "colab_type": "code",
    "collapsed": false,
    "deletable": true,
    "editable": true,
    "id": "uYUVV2wf2z8H",
    "outputId": "6f41b39e-0516-4011-de44-968cf4ebab09"
   },
   "outputs": [
    {
     "name": "stdout",
     "output_type": "stream",
     "text": [
      "_________________________________________________________________\n",
      "Layer (type)                 Output Shape              Param #   \n",
      "=================================================================\n",
      "conv2d_1 (Conv2D)            (None, 28, 28, 16)        160       \n",
      "_________________________________________________________________\n",
      "max_pooling2d_1 (MaxPooling2 (None, 14, 14, 16)        0         \n",
      "_________________________________________________________________\n",
      "conv2d_2 (Conv2D)            (None, 14, 14, 32)        4640      \n",
      "_________________________________________________________________\n",
      "max_pooling2d_2 (MaxPooling2 (None, 7, 7, 32)          0         \n",
      "_________________________________________________________________\n",
      "conv2d_3 (Conv2D)            (None, 7, 7, 64)          18496     \n",
      "_________________________________________________________________\n",
      "max_pooling2d_3 (MaxPooling2 (None, 3, 3, 64)          0         \n",
      "_________________________________________________________________\n",
      "flatten_1 (Flatten)          (None, 576)               0         \n",
      "_________________________________________________________________\n",
      "dense_1 (Dense)              (None, 128)               73856     \n",
      "_________________________________________________________________\n",
      "dense_2 (Dense)              (None, 100)               12900     \n",
      "=================================================================\n",
      "Total params: 110,052\n",
      "Trainable params: 110,052\n",
      "Non-trainable params: 0\n",
      "_________________________________________________________________\n",
      "None\n"
     ]
    }
   ],
   "source": [
    "# Define model\n",
    "model = keras.models.Sequential()\n",
    "model.add(layers.Convolution2D(16, (3, 3),\n",
    "                        padding='same',\n",
    "                        input_shape=x_train.shape[1:], activation='relu'))\n",
    "model.add(layers.MaxPooling2D(pool_size=(2, 2)))\n",
    "model.add(layers.Convolution2D(32, (3, 3), padding='same', activation= 'relu'))\n",
    "model.add(layers.MaxPooling2D(pool_size=(2, 2)))\n",
    "model.add(layers.Convolution2D(64, (3, 3), padding='same', activation= 'relu'))\n",
    "model.add(layers.MaxPooling2D(pool_size =(2,2)))\n",
    "model.add(layers.Flatten())\n",
    "model.add(layers.Dense(128, activation='relu'))\n",
    "model.add(layers.Dense(100, activation='softmax')) \n",
    "# Train model\n",
    "adam = tf.train.AdamOptimizer()\n",
    "model.compile(loss='categorical_crossentropy',\n",
    "              optimizer=adam,\n",
    "              metrics=['top_k_categorical_accuracy'])\n",
    "print(model.summary())"
   ]
  },
  {
   "cell_type": "code",
   "execution_count": 0,
   "metadata": {
    "colab": {},
    "colab_type": "code",
    "collapsed": true,
    "deletable": true,
    "editable": true,
    "id": "3IIM1I3KBI5j"
   },
   "outputs": [],
   "source": []
  },
  {
   "cell_type": "markdown",
   "metadata": {
    "colab_type": "text",
    "deletable": true,
    "editable": true,
    "id": "_YRSRkOyBP1P"
   },
   "source": [
    "## 5.训练\n",
    "我们基于 5 个 epochs 和 256 个 batch 训练模型， 40-50s一个epoch，总的训练时间大概在5分钟左右"
   ]
  },
  {
   "cell_type": "code",
   "execution_count": 21,
   "metadata": {
    "colab": {
     "base_uri": "https://localhost:8080/",
     "height": 218
    },
    "colab_type": "code",
    "collapsed": false,
    "deletable": true,
    "editable": true,
    "id": "7OMEJ7kF3lsP",
    "outputId": "c2026d76-fde6-4d3b-cf28-7e38fa66c088"
   },
   "outputs": [
    {
     "name": "stdout",
     "output_type": "stream",
     "text": [
      "Train on 288000 samples, validate on 32000 samples\n",
      "Epoch 1/5\n",
      "72s - loss: 1.9716 - top_k_categorical_accuracy: 0.7742 - val_loss: 1.3888 - val_top_k_categorical_accuracy: 0.8763\n",
      "Epoch 2/5\n",
      "71s - loss: 1.2627 - top_k_categorical_accuracy: 0.8903 - val_loss: 1.1649 - val_top_k_categorical_accuracy: 0.9013\n",
      "Epoch 3/5\n",
      "73s - loss: 1.0980 - top_k_categorical_accuracy: 0.9088 - val_loss: 1.0806 - val_top_k_categorical_accuracy: 0.9114\n",
      "Epoch 4/5\n",
      "74s - loss: 1.0081 - top_k_categorical_accuracy: 0.9180 - val_loss: 0.9896 - val_top_k_categorical_accuracy: 0.9193\n",
      "Epoch 5/5\n",
      "74s - loss: 0.9477 - top_k_categorical_accuracy: 0.9238 - val_loss: 0.9683 - val_top_k_categorical_accuracy: 0.9213\n"
     ]
    },
    {
     "data": {
      "text/plain": [
       "<keras.callbacks.History at 0x7f4488bba7f0>"
      ]
     },
     "execution_count": 21,
     "metadata": {},
     "output_type": "execute_result"
    }
   ],
   "source": [
    "model.fit(x = x_train, y = y_train, validation_split=0.1, batch_size = 256, verbose=1, epochs=5)"
   ]
  },
  {
   "cell_type": "markdown",
   "metadata": {
    "colab_type": "text",
    "deletable": true,
    "editable": true,
    "id": "d2KztY7qEn9_"
   },
   "source": [
    "## 6. 测试"
   ]
  },
  {
   "cell_type": "code",
   "execution_count": 22,
   "metadata": {
    "colab": {
     "base_uri": "https://localhost:8080/",
     "height": 34
    },
    "colab_type": "code",
    "collapsed": false,
    "deletable": true,
    "editable": true,
    "id": "ssaZczS7DxeA",
    "outputId": "00a491bf-d38d-4231-f1ae-f8c1c9878b56"
   },
   "outputs": [
    {
     "name": "stdout",
     "output_type": "stream",
     "text": [
      "Test accuarcy: 91.96%\n"
     ]
    }
   ],
   "source": [
    "score = model.evaluate(x_test, y_test, verbose=0)\n",
    "print('Test accuarcy: {:0.2f}%'.format(score[1] * 100))"
   ]
  },
  {
   "cell_type": "markdown",
   "metadata": {
    "colab_type": "text",
    "deletable": true,
    "editable": true,
    "id": "9xBM_w0VBbNr"
   },
   "source": [
    "## 7. 推理 "
   ]
  },
  {
   "cell_type": "code",
   "execution_count": 23,
   "metadata": {
    "colab": {
     "base_uri": "https://localhost:8080/",
     "height": 282
    },
    "colab_type": "code",
    "collapsed": false,
    "deletable": true,
    "editable": true,
    "id": "nH3JfoiYHdpk",
    "outputId": "4a65c582-03c8-4c47-cb28-fb802e4c6058"
   },
   "outputs": [
    {
     "name": "stdout",
     "output_type": "stream",
     "text": [
      "['tooth', 'book', 'pants', 'table', 'diving board']\n"
     ]
    },
    {
     "data": {
      "image/png": "[encoded data removed]",
      "text/plain": [
       "<matplotlib.figure.Figure at 0x7f4488b7e828>"
      ]
     },
     "metadata": {},
     "output_type": "display_data"
    }
   ],
   "source": [
    "import matplotlib.pyplot as plt\n",
    "from random import randint\n",
    "%matplotlib inline  \n",
    "idx = randint(0, len(x_test))\n",
    "img = x_test[idx]\n",
    "plt.imshow(img.squeeze()) \n",
    "pred = model.predict(np.expand_dims(img, axis=0))[0]\n",
    "ind = (-pred).argsort()[:5]\n",
    "latex = [class_names[x] for x in ind]\n",
    "print(latex)"
   ]
  },
  {
   "cell_type": "markdown",
   "metadata": {
    "colab_type": "text",
    "deletable": true,
    "editable": true,
    "id": "_FvBO4266wqQ"
   },
   "source": [
    "## 8. 模型导出"
   ]
  },
  {
   "cell_type": "markdown",
   "metadata": {
    "colab_type": "text",
    "deletable": true,
    "editable": true,
    "id": "YPp5D82YBhM-"
   },
   "source": [
    "### 存储标签名称"
   ]
  },
  {
   "cell_type": "code",
   "execution_count": 24,
   "metadata": {
    "colab": {},
    "colab_type": "code",
    "collapsed": true,
    "deletable": true,
    "editable": true,
    "id": "NoFI1msFYpCN"
   },
   "outputs": [],
   "source": [
    "with open('class_names.txt', 'w') as file_handler:\n",
    "    for item in class_names:\n",
    "        file_handler.write(\"{}\\n\".format(item))"
   ]
  },
  {
   "cell_type": "markdown",
   "metadata": {
    "colab_type": "text",
    "deletable": true,
    "editable": true,
    "id": "mfJ6dpaDBpRx"
   },
   "source": [
    "###  安装TensorFlowJS"
   ]
  },
  {
   "cell_type": "code",
   "execution_count": 26,
   "metadata": {
    "colab": {
     "base_uri": "https://localhost:8080/",
     "height": 739
    },
    "colab_type": "code",
    "collapsed": false,
    "deletable": true,
    "editable": true,
    "id": "hJJDfp9mY9Xh",
    "outputId": "9fd36210-71fb-413a-c90b-58abd3650105"
   },
   "outputs": [
    {
     "name": "stdout",
     "output_type": "stream",
     "text": [
      "\u001b[33mThe directory '/home/gaoc/.cache/pip/http' or its parent directory is not owned by the current user and the cache has been disabled. Please check the permissions and owner of that directory. If executing pip with sudo, you may want sudo's -H flag.\u001b[0m\n",
      "\u001b[33mThe directory '/home/gaoc/.cache/pip' or its parent directory is not owned by the current user and caching wheels has been disabled. check the permissions and owner of that directory. If executing pip with sudo, you may want sudo's -H flag.\u001b[0m\n",
      "Looking in indexes: http://mirrors.aliyun.com/pypi/simple/\n",
      "Collecting tensorflowjs\n",
      "  Downloading http://mirrors.aliyun.com/pypi/packages/eb/60/57e20c31e84a2ceb43e2afbc02a554638f81e58244bba0f6909affa6857d/tensorflowjs-0.5.7-py2-none-any.whl\n",
      "Collecting h5py==2.8.0 (from tensorflowjs)\n",
      "\u001b[?25l  Downloading http://mirrors.aliyun.com/pypi/packages/33/0c/1c5dfa85e05052aa5f50969d87c67a2128dc39a6f8ce459a503717e56bd0/h5py-2.8.0-cp27-cp27mu-manylinux1_x86_64.whl (2.7MB)\n",
      "\u001b[K    100% |████████████████████████████████| 2.7MB 49.4MB/s ta 0:00:01\n",
      "\u001b[?25hCollecting keras==2.1.6 (from tensorflowjs)\n",
      "\u001b[?25l  Downloading http://mirrors.aliyun.com/pypi/packages/54/e8/eaff7a09349ae9bd40d3ebaf028b49f5e2392c771f294910f75bb608b241/Keras-2.1.6-py2.py3-none-any.whl (339kB)\n",
      "\u001b[K    100% |████████████████████████████████| 348kB 59.6MB/s ta 0:00:01\n",
      "\u001b[?25hCollecting numpy==1.14.1 (from tensorflowjs)\n",
      "\u001b[?25l  Downloading http://mirrors.aliyun.com/pypi/packages/62/5a/6ba7ea4f097343021efd721200126969c603295b1b76c5469795e2f9ea38/numpy-1.14.1-cp27-cp27mu-manylinux1_x86_64.whl (12.1MB)\n",
      "\u001b[K    100% |████████████████████████████████| 12.1MB 83.7MB/s ta 0:00:011\n",
      "\u001b[?25hCollecting tensorflow==1.9.0 (from tensorflowjs)\n",
      "\u001b[?25l  Downloading http://mirrors.aliyun.com/pypi/packages/37/ff/97d4542f805ae25bf4b65b6263515584c78bd9a6111ed78ea971eff2946a/tensorflow-1.9.0-cp27-cp27mu-manylinux1_x86_64.whl (51.2MB)\n",
      "\u001b[K    100% |████████████████████████████████| 51.2MB 67.9MB/s ta 0:00:01\n",
      "\u001b[?25hRequirement already satisfied: six==1.11.0 in /usr/local/lib/python2.7/dist-packages (from tensorflowjs) (1.11.0)\n",
      "Collecting tensorflow-hub==0.1.0 (from tensorflowjs)\n",
      "\u001b[?25l  Downloading http://mirrors.aliyun.com/pypi/packages/aa/8e/ab0d5cf0f2dc2ed1c645bf1cb4acc7beeb0be5a51ebb0c91cbb23eb1fe10/tensorflow_hub-0.1.0-py2.py3-none-any.whl (53kB)\n",
      "\u001b[K    100% |████████████████████████████████| 61kB 58.1MB/s ta 0:00:01\n",
      "\u001b[?25hRequirement already satisfied: pyyaml in /usr/local/lib/python2.7/dist-packages (from keras==2.1.6->tensorflowjs) (3.12)\n",
      "Requirement already satisfied: scipy>=0.14 in /usr/local/lib/python2.7/dist-packages (from keras==2.1.6->tensorflowjs) (1.0.0)\n",
      "Requirement already satisfied: mock>=2.0.0 in /usr/local/lib/python2.7/dist-packages (from tensorflow==1.9.0->tensorflowjs) (2.0.0)\n",
      "Requirement already satisfied: grpcio>=1.8.6 in /usr/local/lib/python2.7/dist-packages (from tensorflow==1.9.0->tensorflowjs) (1.11.0)\n",
      "Requirement already satisfied: termcolor>=1.1.0 in /usr/local/lib/python2.7/dist-packages (from tensorflow==1.9.0->tensorflowjs) (1.1.0)\n",
      "Collecting tensorboard<1.10.0,>=1.9.0 (from tensorflow==1.9.0->tensorflowjs)\n",
      "\u001b[?25l  Downloading http://mirrors.aliyun.com/pypi/packages/d5/98/e2e9d5afbc86cef0b2dd0f4ab791519b9bd305ea207e1e5c2f9a9f2f6da6/tensorboard-1.9.0-py2-none-any.whl (3.3MB)\n",
      "\u001b[K    100% |████████████████████████████████| 3.3MB 87.5MB/s ta 0:00:01\n",
      "\u001b[?25hRequirement already satisfied: backports.weakref>=1.0rc1 in /usr/local/lib/python2.7/dist-packages (from tensorflow==1.9.0->tensorflowjs) (1.0.post1)\n",
      "Requirement already satisfied: absl-py>=0.1.6 in /usr/local/lib/python2.7/dist-packages (from tensorflow==1.9.0->tensorflowjs) (0.1.13)\n",
      "Requirement already satisfied: wheel in /usr/local/lib/python2.7/dist-packages (from tensorflow==1.9.0->tensorflowjs) (0.31.0)\n",
      "Requirement already satisfied: enum34>=1.1.6 in /usr/local/lib/python2.7/dist-packages (from tensorflow==1.9.0->tensorflowjs) (1.1.6)\n",
      "Requirement already satisfied: gast>=0.2.0 in /usr/local/lib/python2.7/dist-packages (from tensorflow==1.9.0->tensorflowjs) (0.2.0)\n",
      "Requirement already satisfied: protobuf>=3.4.0 in /usr/local/lib/python2.7/dist-packages (from tensorflow==1.9.0->tensorflowjs) (3.5.2.post1)\n",
      "Requirement already satisfied: astor>=0.6.0 in /usr/local/lib/python2.7/dist-packages (from tensorflow==1.9.0->tensorflowjs) (0.6.2)\n",
      "Requirement already satisfied: setuptools<=39.1.0 in /usr/local/lib/python2.7/dist-packages (from tensorflow==1.9.0->tensorflowjs) (39.1.0)\n",
      "Requirement already satisfied: funcsigs>=1; python_version < \"3.3\" in /usr/local/lib/python2.7/dist-packages (from mock>=2.0.0->tensorflow==1.9.0->tensorflowjs) (1.0.2)\n",
      "Requirement already satisfied: pbr>=0.11 in /usr/local/lib/python2.7/dist-packages (from mock>=2.0.0->tensorflow==1.9.0->tensorflowjs) (4.0.2)\n",
      "Requirement already satisfied: futures>=2.2.0 in /usr/local/lib/python2.7/dist-packages (from grpcio>=1.8.6->tensorflow==1.9.0->tensorflowjs) (3.2.0)\n",
      "Requirement already satisfied: markdown>=2.6.8 in /usr/local/lib/python2.7/dist-packages (from tensorboard<1.10.0,>=1.9.0->tensorflow==1.9.0->tensorflowjs) (2.6.11)\n",
      "Requirement already satisfied: werkzeug>=0.11.10 in /usr/local/lib/python2.7/dist-packages (from tensorboard<1.10.0,>=1.9.0->tensorflow==1.9.0->tensorflowjs) (0.14.1)\n",
      "\u001b[31manago 1.0.7 has requirement numpy>=1.14.3, but you'll have numpy 1.14.1 which is incompatible.\u001b[0m\n",
      "Installing collected packages: numpy, h5py, keras, tensorboard, tensorflow, tensorflow-hub, tensorflowjs\n",
      "  Found existing installation: numpy 1.10.4\n",
      "    Uninstalling numpy-1.10.4:\n",
      "      Successfully uninstalled numpy-1.10.4\n",
      "  Found existing installation: h5py 2.7.1\n",
      "    Uninstalling h5py-2.7.1:\n",
      "      Successfully uninstalled h5py-2.7.1\n",
      "  Found existing installation: Keras 2.1.3\n",
      "    Uninstalling Keras-2.1.3:\n",
      "      Successfully uninstalled Keras-2.1.3\n",
      "  Found existing installation: tensorboard 1.7.0\n",
      "    Uninstalling tensorboard-1.7.0:\n",
      "      Successfully uninstalled tensorboard-1.7.0\n",
      "  Found existing installation: tensorflow 1.7.0\n",
      "    Uninstalling tensorflow-1.7.0:\n",
      "      Successfully uninstalled tensorflow-1.7.0\n",
      "Successfully installed h5py-2.8.0 keras-2.1.6 numpy-1.14.1 tensorboard-1.9.0 tensorflow-1.9.0 tensorflow-hub-0.1.0 tensorflowjs-0.5.7\n",
      "\u001b[33mYou are using pip version 10.0.1, however version 18.0 is available.\n",
      "You should consider upgrading via the 'pip install --upgrade pip' command.\u001b[0m\n"
     ]
    }
   ],
   "source": [
    "# 在该环境下已经安装完毕，不需要重新安装\n",
    "#!sudo pip install tensorflowjs "
   ]
  },
  {
   "cell_type": "markdown",
   "metadata": {
    "colab_type": "text",
    "deletable": true,
    "editable": true,
    "id": "HxZxMydzGKly"
   },
   "source": [
    "### 下载基本的Web框架"
   ]
  },
  {
   "cell_type": "code",
   "execution_count": 28,
   "metadata": {
    "colab": {
     "base_uri": "https://localhost:8080/",
     "height": 101
    },
    "colab_type": "code",
    "collapsed": false,
    "deletable": true,
    "editable": true,
    "id": "DgK-u9r1GQIg",
    "outputId": "7a86439d-ddf2-44ec-8f49-e2a17bd08691"
   },
   "outputs": [
    {
     "name": "stdout",
     "output_type": "stream",
     "text": [
      "Cloning into 'labs'...\n",
      "remote: Counting objects: 39, done.\u001b[K\n",
      "remote: Compressing objects: 100% (36/36), done.\u001b[K\n",
      "remote: Total 39 (delta 8), reused 34 (delta 3), pack-reused 0\u001b[K\n",
      "Unpacking objects: 100% (39/39), done.\n",
      "Checking connectivity... done.\n"
     ]
    }
   ],
   "source": [
    "!git clone https://github.com/ddebby/labs.git"
   ]
  },
  {
   "cell_type": "markdown",
   "metadata": {
    "colab_type": "text",
    "deletable": true,
    "editable": true,
    "id": "-oBl0ZKVB00d"
   },
   "source": [
    "### 存储和转换模型 "
   ]
  },
  {
   "cell_type": "code",
   "execution_count": 27,
   "metadata": {
    "colab": {
     "base_uri": "https://localhost:8080/",
     "height": 54
    },
    "colab_type": "code",
    "collapsed": false,
    "deletable": true,
    "editable": true,
    "id": "XVICB3TbZGb2",
    "outputId": "4a252c63-70bc-4ed9-b2c1-f36ac1c749ed"
   },
   "outputs": [
    {
     "name": "stderr",
     "output_type": "stream",
     "text": [
      "/anaconda/envs/py35/lib/python3.5/site-packages/keras/models.py:119: UserWarning: TensorFlow optimizers do not make it possible to access optimizer attributes or optimizer state after instantiation. As a result, we cannot save the optimizer as part of the model save file.You will have to compile your model again after loading it. Prefer using a Keras optimizer instead (see keras.io/optimizers).\n",
      "  'TensorFlow optimizers do not '\n"
     ]
    }
   ],
   "source": [
    "model.save('keras.h5')"
   ]
  },
  {
   "cell_type": "code",
   "execution_count": 29,
   "metadata": {
    "colab": {
     "base_uri": "https://localhost:8080/",
     "height": 34
    },
    "colab_type": "code",
    "collapsed": false,
    "deletable": true,
    "editable": true,
    "id": "bTWWlGdWZOvs",
    "outputId": "89fc5e48-2b7b-4866-b0b5-22ff1d0c48c7"
   },
   "outputs": [
    {
     "name": "stdout",
     "output_type": "stream",
     "text": [
      "Using TensorFlow backend.\r\n"
     ]
    }
   ],
   "source": [
    "!tensorflowjs_converter --input_format keras keras.h5 labs/model/"
   ]
  },
  {
   "cell_type": "code",
   "execution_count": 31,
   "metadata": {
    "colab": {
     "base_uri": "https://localhost:8080/",
     "height": 185
    },
    "colab_type": "code",
    "collapsed": false,
    "deletable": true,
    "editable": true,
    "id": "v29IGas3G4tR",
    "outputId": "b0cfaad0-91f8-40e8-96c5-9e0d52c67ca3"
   },
   "outputs": [
    {
     "name": "stdout",
     "output_type": "stream",
     "text": [
      "total 440\r\n",
      "-rw-r--r-- 1 gaoc root 440208 Sep 11 10:05 group1-shard1of1\r\n",
      "-rw-r--r-- 1 gaoc root   4250 Sep 11 10:05 model.json\r\n"
     ]
    }
   ],
   "source": [
    "!ls -l labs/model"
   ]
  },
  {
   "cell_type": "markdown",
   "metadata": {
    "colab_type": "text",
    "deletable": true,
    "editable": true,
    "id": "JKYxE2MEB6LV"
   },
   "source": [
    "### 压缩及获取"
   ]
  },
  {
   "cell_type": "code",
   "execution_count": 32,
   "metadata": {
    "colab": {},
    "colab_type": "code",
    "collapsed": true,
    "deletable": true,
    "editable": true,
    "id": "865-t79uaB63"
   },
   "outputs": [],
   "source": [
    "!cp class_names.txt labs/model/class_names.txt"
   ]
  },
  {
   "cell_type": "code",
   "execution_count": 33,
   "metadata": {
    "colab": {
     "base_uri": "https://localhost:8080/",
     "height": 2167
    },
    "colab_type": "code",
    "collapsed": false,
    "deletable": true,
    "editable": true,
    "id": "GLC-MzW8ZXTa",
    "outputId": "6aa92223-1e55-43f4-f07f-582466186088"
   },
   "outputs": [
    {
     "name": "stdout",
     "output_type": "stream",
     "text": [
      "  adding: labs/ (stored 0%)\n",
      "  adding: labs/fabric.js (deflated 80%)\n",
      "  adding: labs/mini_classes.txt (deflated 41%)\n",
      "  adding: labs/pics/ (stored 0%)\n",
      "  adding: labs/pics/1.png (deflated 2%)\n",
      "  adding: labs/pics/5.png (deflated 10%)\n",
      "  adding: labs/pics/2.jpg (deflated 20%)\n",
      "  adding: labs/pics/config.png (deflated 8%)\n",
      "  adding: labs/pics/3.png (deflated 4%)\n",
      "  adding: labs/pics/webserver4chrome.png (deflated 10%)\n",
      "  adding: labs/main.css (deflated 63%)\n",
      "  adding: labs/README.md (deflated 27%)\n",
      "  adding: labs/pie.js (deflated 62%)\n",
      "  adding: labs/model/ (stored 0%)\n",
      "  adding: labs/model/class_names.txt (deflated 41%)\n",
      "  adding: labs/model/model.json (deflated 84%)\n",
      "  adding: labs/model/group1-shard1of1 (deflated 7%)\n",
      "  adding: labs/class_names.txt (deflated 29%)\n",
      "  adding: labs/.git/ (stored 0%)\n",
      "  adding: labs/.git/logs/ (stored 0%)\n",
      "  adding: labs/.git/logs/HEAD (deflated 29%)\n",
      "  adding: labs/.git/logs/refs/ (stored 0%)\n",
      "  adding: labs/.git/logs/refs/remotes/ (stored 0%)\n",
      "  adding: labs/.git/logs/refs/remotes/origin/ (stored 0%)\n",
      "  adding: labs/.git/logs/refs/remotes/origin/HEAD (deflated 29%)\n",
      "  adding: labs/.git/logs/refs/heads/ (stored 0%)\n",
      "  adding: labs/.git/logs/refs/heads/master (deflated 29%)\n",
      "  adding: labs/.git/hooks/ (stored 0%)\n",
      "  adding: labs/.git/hooks/pre-push.sample (deflated 50%)\n",
      "  adding: labs/.git/hooks/update.sample (deflated 68%)\n",
      "  adding: labs/.git/hooks/prepare-commit-msg.sample (deflated 46%)\n",
      "  adding: labs/.git/hooks/post-update.sample (deflated 27%)\n",
      "  adding: labs/.git/hooks/pre-applypatch.sample (deflated 38%)\n",
      "  adding: labs/.git/hooks/applypatch-msg.sample (deflated 42%)\n",
      "  adding: labs/.git/hooks/commit-msg.sample (deflated 44%)\n",
      "  adding: labs/.git/hooks/pre-commit.sample (deflated 43%)\n",
      "  adding: labs/.git/hooks/pre-rebase.sample (deflated 59%)\n",
      "  adding: labs/.git/index (deflated 42%)\n",
      "  adding: labs/.git/HEAD (stored 0%)\n",
      "  adding: labs/.git/config (deflated 34%)\n",
      "  adding: labs/.git/refs/ (stored 0%)\n",
      "  adding: labs/.git/refs/tags/ (stored 0%)\n",
      "  adding: labs/.git/refs/remotes/ (stored 0%)\n",
      "  adding: labs/.git/refs/remotes/origin/ (stored 0%)\n",
      "  adding: labs/.git/refs/remotes/origin/HEAD (stored 0%)\n",
      "  adding: labs/.git/refs/heads/ (stored 0%)\n",
      "  adding: labs/.git/refs/heads/master (deflated 2%)\n",
      "  adding: labs/.git/packed-refs (deflated 11%)\n",
      "  adding: labs/.git/description (deflated 14%)\n",
      "  adding: labs/.git/objects/ (stored 0%)\n",
      "  adding: labs/.git/objects/34/ (stored 0%)\n",
      "  adding: labs/.git/objects/34/2d3f96d33246591b3b37ce7eef6eae9c6d28b1 (stored 0%)\n",
      "  adding: labs/.git/objects/14/ (stored 0%)\n",
      "  adding: labs/.git/objects/14/f078e591394cbaa40d6f13a670506ce7ed710b (stored 0%)\n",
      "  adding: labs/.git/objects/3e/ (stored 0%)\n",
      "  adding: labs/.git/objects/3e/9349da37caef16c89201e91e04da92e26eabcc (stored 0%)\n",
      "  adding: labs/.git/objects/a3/ (stored 0%)\n",
      "  adding: labs/.git/objects/a3/9470fc77c709b1e8e814033b8cbbd519e53658 (stored 0%)\n",
      "  adding: labs/.git/objects/ce/ (stored 0%)\n",
      "  adding: labs/.git/objects/ce/976037d26534f45c2c2b427a0c86fe500fa6be (stored 0%)\n",
      "  adding: labs/.git/objects/86/ (stored 0%)\n",
      "  adding: labs/.git/objects/86/31293524749fd2a628afac762ef3175801ccc3 (stored 0%)\n",
      "  adding: labs/.git/objects/b4/ (stored 0%)\n",
      "  adding: labs/.git/objects/b4/a92411e2d17ee5e74cf391ef5f81b0fa27f2e0 (deflated 0%)\n",
      "  adding: labs/.git/objects/d5/ (stored 0%)\n",
      "  adding: labs/.git/objects/d5/593c403711cf8ae63db7a7dadf784bd7b39c85 (deflated 0%)\n",
      "  adding: labs/.git/objects/75/ (stored 0%)\n",
      "  adding: labs/.git/objects/75/fb9bdf657f6e27b8daa7589c110bd0ffa5eb75 (deflated 0%)\n",
      "  adding: labs/.git/objects/12/ (stored 0%)\n",
      "  adding: labs/.git/objects/12/fad77b0e3abdc88bd4bc70661719b6f686b7cc (deflated 0%)\n",
      "  adding: labs/.git/objects/29/ (stored 0%)\n",
      "  adding: labs/.git/objects/29/f9a2e33b4ffaf9afa8012ea89660cf2e152bf7 (stored 0%)\n",
      "  adding: labs/.git/objects/8e/ (stored 0%)\n",
      "  adding: labs/.git/objects/8e/5b27e9f4d49365b9124998a873abb5b836b288 (stored 0%)\n",
      "  adding: labs/.git/objects/41/ (stored 0%)\n",
      "  adding: labs/.git/objects/41/5f5b91b55e365089887834061e2fb5b3185a61 (stored 0%)\n",
      "  adding: labs/.git/objects/c0/ (stored 0%)\n",
      "  adding: labs/.git/objects/c0/dad9ace703ae4f6eec85e14251feac35475ca6 (stored 0%)\n",
      "  adding: labs/.git/objects/2f/ (stored 0%)\n",
      "  adding: labs/.git/objects/2f/d64429bf421126b7000c94ce0f6fd186fbd01f (stored 0%)\n",
      "  adding: labs/.git/objects/pack/ (stored 0%)\n",
      "  adding: labs/.git/objects/4b/ (stored 0%)\n",
      "  adding: labs/.git/objects/4b/755dc6082cd18c8d8b56532f4474a0b43ddbfb (stored 0%)\n",
      "  adding: labs/.git/objects/b2/ (stored 0%)\n",
      "  adding: labs/.git/objects/b2/ea8daf130080eca4cf2ef02e7936610ba37f8c (deflated 0%)\n",
      "  adding: labs/.git/objects/5b/ (stored 0%)\n",
      "  adding: labs/.git/objects/5b/abd440d78c90f7f661c1d54b50aec633da06b4 (deflated 0%)\n",
      "  adding: labs/.git/objects/ee/ (stored 0%)\n",
      "  adding: labs/.git/objects/ee/1db02080cb6059d91462383b63c3774c9f867c (stored 0%)\n",
      "  adding: labs/.git/objects/3b/ (stored 0%)\n",
      "  adding: labs/.git/objects/3b/7e81ffed1cbf5bf437490ae0120cbbcbdcb610 (stored 0%)\n",
      "  adding: labs/.git/objects/4f/ (stored 0%)\n",
      "  adding: labs/.git/objects/4f/8c5d091237ede8544775b19e9184f4c64f2e99 (stored 0%)\n",
      "  adding: labs/.git/objects/9b/ (stored 0%)\n",
      "  adding: labs/.git/objects/9b/f9226c673c6985b38f97b7a79cf215606c6038 (stored 0%)\n",
      "  adding: labs/.git/objects/67/ (stored 0%)\n",
      "  adding: labs/.git/objects/67/e0583581f85d2ee5e45a71b9a2027d0455ecc7 (stored 0%)\n",
      "  adding: labs/.git/objects/c1/ (stored 0%)\n",
      "  adding: labs/.git/objects/c1/24f0a773df82bcf27559bec17ed095c2994a0e (stored 0%)\n",
      "  adding: labs/.git/objects/ae/ (stored 0%)\n",
      "  adding: labs/.git/objects/ae/0a70a771f985aef2275c334d1548fe6ea7d543 (deflated 0%)\n",
      "  adding: labs/.git/objects/70/ (stored 0%)\n",
      "  adding: labs/.git/objects/70/86e332534f2833c4a1dde4e09900c492768710 (deflated 0%)\n",
      "  adding: labs/.git/objects/6b/ (stored 0%)\n",
      "  adding: labs/.git/objects/6b/00d51785f147cd9d1cd14b61874161a4319fe0 (stored 0%)\n",
      "  adding: labs/.git/objects/ad/ (stored 0%)\n",
      "  adding: labs/.git/objects/ad/396f5a000432d3a7ada9daa3afe4654ce49b0f (stored 0%)\n",
      "  adding: labs/.git/objects/49/ (stored 0%)\n",
      "  adding: labs/.git/objects/49/3c39c4551f422cbb6311efd191fc76e6f5fbc7 (stored 0%)\n",
      "  adding: labs/.git/objects/b0/ (stored 0%)\n",
      "  adding: labs/.git/objects/b0/6a2e5d046f68cc930db8e24f92d73bc36c1d02 (stored 0%)\n",
      "  adding: labs/.git/objects/1f/ (stored 0%)\n",
      "  adding: labs/.git/objects/1f/92e02c0a937f1998d519adf6efae58633831a3 (stored 0%)\n",
      "  adding: labs/.git/objects/85/ (stored 0%)\n",
      "  adding: labs/.git/objects/85/1e0dcb9be4e130eede9511d0321c432f0b3eee (deflated 0%)\n",
      "  adding: labs/.git/objects/47/ (stored 0%)\n",
      "  adding: labs/.git/objects/47/5c57a2ca99920009ffb20f5522ab95e24e2483 (stored 0%)\n",
      "  adding: labs/.git/objects/71/ (stored 0%)\n",
      "  adding: labs/.git/objects/71/e5bbc00cbd9d9be79530cfd1ed1e42f6876319 (stored 0%)\n",
      "  adding: labs/.git/objects/88/ (stored 0%)\n",
      "  adding: labs/.git/objects/88/6d144252ac0af75b3c95f6fc0f8c001f14f9f5 (stored 0%)\n",
      "  adding: labs/.git/objects/info/ (stored 0%)\n",
      "  adding: labs/.git/objects/3a/ (stored 0%)\n",
      "  adding: labs/.git/objects/3a/7d9d2e2c0ec571d0775d237c2358265dc52ec7 (stored 0%)\n",
      "  adding: labs/.git/objects/9f/ (stored 0%)\n",
      "  adding: labs/.git/objects/9f/894dd06293b2f771f9dfd9cc9afc5324f8100d (stored 0%)\n",
      "  adding: labs/.git/objects/ea/ (stored 0%)\n",
      "  adding: labs/.git/objects/ea/2c6f6131a9a7ea87fccb8a38f9c780638218bd (deflated 0%)\n",
      "  adding: labs/.git/objects/bd/ (stored 0%)\n",
      "  adding: labs/.git/objects/bd/bef0367c14c97f113bef13bd306bc3490a04f5 (stored 0%)\n",
      "  adding: labs/.git/info/ (stored 0%)\n",
      "  adding: labs/.git/info/exclude (deflated 28%)\n",
      "  adding: labs/.git/branches/ (stored 0%)\n",
      "  adding: labs/lab01.ipynb (deflated 72%)\n",
      "  adding: labs/index.html (deflated 56%)\n",
      "  adding: labs/main.js (deflated 65%)\n",
      "  adding: labs/pie.css (deflated 58%)\n"
     ]
    }
   ],
   "source": [
    "!zip -r lab.zip labs "
   ]
  },
  {
   "cell_type": "markdown",
   "metadata": {
    "colab": {},
    "colab_type": "code",
    "deletable": true,
    "editable": true,
    "id": "4vfPR03xZZeD"
   },
   "source": [
    "点击左上角`File`---`Open...`,找到`lab.zip`，下载到本地"
   ]
  },
  {
   "cell_type": "markdown",
   "metadata": {
    "colab_type": "text",
    "deletable": true,
    "editable": true,
    "id": "2Wo2NEIa6wqw"
   },
   "source": [
    "## 9.部署\n",
    "在本机环境部署需要搭建一个Web Server，可以使用Windows的IIS或者使用Chrome的Web Server插件，本试验简单对其使用做一个基本介绍，相关配置可以根据每个人的环境不同进行调整。"
   ]
  },
  {
   "cell_type": "markdown",
   "metadata": {
    "colab_type": "text",
    "deletable": true,
    "editable": true,
    "id": "kQuvA_-d6wqw"
   },
   "source": [
    "### 使用Chrome的网络服务器（可选）\n",
    "1. 在Chrome浏览器中进入插件安装页面：[Web Server for Chrome](https://chrome.google.com/webstore/detail/web-server-for-chrome/ofhbbkphhbklhfoeikjpcbhemlocgigb/related?hl=en)\n",
    "![](https://github.com/ddebby/labs/blob/master/pics/webserver4chrome.png?raw=1)\n",
    "\n",
    "2. 配置Web Server for Chrome， 将文件目录定位到本地`index.html`所在目录，同时可以根据需求重新配置端口（默认为8887）\n",
    "\n",
    "![](https://github.com/ddebby/labs/blob/master/pics/config.png?raw=1)\n",
    "\n",
    "3. 可以通过访问本机的 http://127.0.0.1:8887 来访问完成的AI项目\n",
    "\n",
    "![](https://github.com/ddebby/labs/blob/master/pics/index.png?raw=1)"
   ]
  },
  {
   "cell_type": "code",
   "execution_count": 0,
   "metadata": {
    "colab": {},
    "colab_type": "code",
    "collapsed": true,
    "deletable": true,
    "editable": true,
    "id": "4eOEowUp6wqx"
   },
   "outputs": [],
   "source": []
  }
 ],
 "metadata": {
  "accelerator": "GPU",
  "colab": {
   "name": "Sketcher.ipynb",
   "provenance": [],
   "version": "0.3.2"
  },
  "kernelspec": {
   "display_name": "Python 3",
   "language": "python",
   "name": "python3"
  },
  "language_info": {
   "codemirror_mode": {
    "name": "ipython",
    "version": 3
   },
   "file_extension": ".py",
   "mimetype": "text/x-python",
   "name": "python",
   "nbconvert_exporter": "python",
   "pygments_lexer": "ipython3",
   "version": "3.5.2"
  }
 },
 "nbformat": 4,
 "nbformat_minor": 0
}
