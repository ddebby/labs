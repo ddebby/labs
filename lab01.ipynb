{
  "nbformat": 4,
  "nbformat_minor": 0,
  "metadata": {
    "colab": {
      "name": "Sketcher.ipynb",
      "version": "0.3.2",
      "provenance": []
    },
    "kernelspec": {
      "display_name": "Python 3",
      "language": "python",
      "name": "python3"
    },
    "accelerator": "GPU"
  },
  "cells": [
    {
      "metadata": {
        "id": "tCMJwxTP6wpE",
        "colab_type": "text"
      },
      "cell_type": "markdown",
      "source": [
        "# AI Lab — 动手搭建第一个AI项目\n",
        "\n",
        "在本实验中，我们将从头搭建一个类似于你画我猜的项目，创建简单的工具来识别图纸并输出当前图纸的名称。\n",
        "\n",
        "你可以先行在演示环境中尝试一番，提前感受下你将完成的项目情况，[点击进入](http://139.219.128.254:8008/)。\n",
        "\n",
        "![](https://github.com/ddebby/labs/blob/master/pics/1.png?raw=1)\n",
        "\n",
        "**项目的开发过程包括如下基本步骤：**\n",
        "> 1. 数据的准备\n",
        "> 2. 相关配置环境的准备\n",
        "> 3. 数据预处理\n",
        "> 4. 模型的选型及设计\n",
        "> 5. 模型的部署及测试\n",
        "\n",
        "**在本实验中将用到如下工具和技能：**\n",
        "- TensorFlow >v1.5.0\n",
        "- Keras\n",
        "- TensorFlow.js\n",
        "- numpy\n",
        "\n",
        "![](https://github.com/ddebby/labs/blob/master/pics/3.png?raw=1)"
      ]
    },
    {
      "metadata": {
        "id": "-eM-RwjL6wpF",
        "colab_type": "text"
      },
      "cell_type": "markdown",
      "source": [
        "## 1. 数据准备\n",
        "\n",
        "数据集方面，我们使用Google开源的涂鸦数据集：[The Quick, Draw! Dataset](https://github.com/googlecreativelab/quickdraw-dataset)\n",
        "\n",
        "![](https://github.com/ddebby/labs/blob/master/pics/2.jpg?raw=1)\n",
        "它共有5000万副涂鸦画，覆盖了345个分类。为了减少实验中的训练时间，我们在本实验中使用了其中的100个常用分类。\n",
        "\n",
        "每张图像通过如下信息进行定义：\n",
        "\n",
        "| Key         | Type                    | Description                                                  |\n",
        "| ----------- | ----------------------- | ------------------------------------------------------------ |\n",
        "| key_id      | 64-bit unsigned integer | A unique identifier across all   drawings.                   |\n",
        "| word        | string                  | Category the player was prompted to   draw.                  |\n",
        "| recognized  | boolean                 | Whether the word was recognized by the   game.               |\n",
        "| timestamp   | datetime                | When the drawing was created.                                |\n",
        "| countrycode | string                  | A two letter country code ([ISO 3166-1   alpha-2](https://en.wikipedia.org/wiki/ISO_3166-1_alpha-2)) of where the player was located. |\n",
        "| drawing     | string                  | A JSON array representing the vector   drawing               |\n",
        "\n",
        "比如：\n",
        "\n",
        "```python\n",
        "  { \n",
        "    \"key_id\":\"5891796615823360\",\n",
        "    \"word\":\"nose\",\n",
        "    \"countrycode\":\"AE\",\n",
        "    \"timestamp\":\"2017-03-01 20:41:36.70725 UTC\",\n",
        "    \"recognized\":true,\n",
        "    \"drawing\":[[[129,128,129,129,130,130,131,132,132,133,133,133,133,...]]]\n",
        "  }\n",
        "```\n",
        "\n",
        "在本实验中，我们使用 `.npy` 存储的数据格式，可以直接使用`numpy`以矩阵的形式加载数据，方便处理。"
      ]
    },
    {
      "metadata": {
        "id": "NO_ZRo-Z7ZE7",
        "colab_type": "text"
      },
      "cell_type": "markdown",
      "source": [
        "### 数据下载"
      ]
    },
    {
      "metadata": {
        "id": "9ow-Kfd_7018",
        "colab_type": "code",
        "colab": {
          "base_uri": "https://localhost:8080/",
          "height": 50
        },
        "outputId": "fc0eec3a-8581-4746-a754-1cc8ab19d305"
      },
      "cell_type": "code",
      "source": [
        "!wget 'https://raw.githubusercontent.com/zaidalyafeai/zaidalyafeai.github.io/master/sketcher/mini_classes.txt'\n",
        "f = open(\"mini_classes.txt\",\"r\")\n",
        "# And for reading use\n",
        "classes = f.readlines()\n",
        "f.close()\n",
        "classes = [c.replace('\\n','').replace(' ','_') for c in classes]"
      ],
      "execution_count": 1,
      "outputs": [
        {
          "output_type": "stream",
          "text": [
            "\n",
            "Redirecting output to ‘wget-log.1’.\n"
          ],
          "name": "stdout"
        }
      ]
    },
    {
      "metadata": {
        "id": "QLFWrQ2t8CI2",
        "colab_type": "code",
        "colab": {
          "base_uri": "https://localhost:8080/",
          "height": 34
        },
        "outputId": "61d5a8df-7b10-46df-fdc7-1ed3fac28c7e"
      },
      "cell_type": "code",
      "source": [
        "!mkdir 'data'\n",
        "import urllib.request\n",
        "def download():\n",
        "  \n",
        "  base = 'https://storage.googleapis.com/quickdraw_dataset/full/numpy_bitmap/'\n",
        "  for c in classes:\n",
        "    cls_url = c.replace('_', '%20')\n",
        "    path = base+cls_url+'.npy'\n",
        "    print(path)\n",
        "    urllib.request.urlretrieve(path, 'data/'+c+'.npy')"
      ],
      "execution_count": 3,
      "outputs": [
        {
          "output_type": "stream",
          "text": [
            "mkdir: cannot create directory ‘data’: File exists\n"
          ],
          "name": "stdout"
        }
      ]
    },
    {
      "metadata": {
        "id": "dg2-36138M-I",
        "colab_type": "code",
        "colab": {
          "base_uri": "https://localhost:8080/",
          "height": 1697
        },
        "outputId": "26c139fa-eb4c-41f4-fbe4-4256f7b2a979"
      },
      "cell_type": "code",
      "source": [
        "download() "
      ],
      "execution_count": 4,
      "outputs": [
        {
          "output_type": "stream",
          "text": [
            "https://storage.googleapis.com/quickdraw_dataset/full/numpy_bitmap/drums.npy\n",
            "https://storage.googleapis.com/quickdraw_dataset/full/numpy_bitmap/sun.npy\n",
            "https://storage.googleapis.com/quickdraw_dataset/full/numpy_bitmap/laptop.npy\n",
            "https://storage.googleapis.com/quickdraw_dataset/full/numpy_bitmap/anvil.npy\n",
            "https://storage.googleapis.com/quickdraw_dataset/full/numpy_bitmap/baseball%20bat.npy\n",
            "https://storage.googleapis.com/quickdraw_dataset/full/numpy_bitmap/ladder.npy\n",
            "https://storage.googleapis.com/quickdraw_dataset/full/numpy_bitmap/eyeglasses.npy\n",
            "https://storage.googleapis.com/quickdraw_dataset/full/numpy_bitmap/grapes.npy\n",
            "https://storage.googleapis.com/quickdraw_dataset/full/numpy_bitmap/book.npy\n",
            "https://storage.googleapis.com/quickdraw_dataset/full/numpy_bitmap/dumbbell.npy\n",
            "https://storage.googleapis.com/quickdraw_dataset/full/numpy_bitmap/traffic%20light.npy\n",
            "https://storage.googleapis.com/quickdraw_dataset/full/numpy_bitmap/wristwatch.npy\n",
            "https://storage.googleapis.com/quickdraw_dataset/full/numpy_bitmap/wheel.npy\n",
            "https://storage.googleapis.com/quickdraw_dataset/full/numpy_bitmap/shovel.npy\n",
            "https://storage.googleapis.com/quickdraw_dataset/full/numpy_bitmap/bread.npy\n",
            "https://storage.googleapis.com/quickdraw_dataset/full/numpy_bitmap/table.npy\n",
            "https://storage.googleapis.com/quickdraw_dataset/full/numpy_bitmap/tennis%20racquet.npy\n",
            "https://storage.googleapis.com/quickdraw_dataset/full/numpy_bitmap/cloud.npy\n",
            "https://storage.googleapis.com/quickdraw_dataset/full/numpy_bitmap/chair.npy\n",
            "https://storage.googleapis.com/quickdraw_dataset/full/numpy_bitmap/headphones.npy\n",
            "https://storage.googleapis.com/quickdraw_dataset/full/numpy_bitmap/face.npy\n",
            "https://storage.googleapis.com/quickdraw_dataset/full/numpy_bitmap/eye.npy\n",
            "https://storage.googleapis.com/quickdraw_dataset/full/numpy_bitmap/airplane.npy\n",
            "https://storage.googleapis.com/quickdraw_dataset/full/numpy_bitmap/snake.npy\n",
            "https://storage.googleapis.com/quickdraw_dataset/full/numpy_bitmap/lollipop.npy\n",
            "https://storage.googleapis.com/quickdraw_dataset/full/numpy_bitmap/power%20outlet.npy\n",
            "https://storage.googleapis.com/quickdraw_dataset/full/numpy_bitmap/pants.npy\n",
            "https://storage.googleapis.com/quickdraw_dataset/full/numpy_bitmap/mushroom.npy\n",
            "https://storage.googleapis.com/quickdraw_dataset/full/numpy_bitmap/star.npy\n",
            "https://storage.googleapis.com/quickdraw_dataset/full/numpy_bitmap/sword.npy\n",
            "https://storage.googleapis.com/quickdraw_dataset/full/numpy_bitmap/clock.npy\n",
            "https://storage.googleapis.com/quickdraw_dataset/full/numpy_bitmap/hot%20dog.npy\n",
            "https://storage.googleapis.com/quickdraw_dataset/full/numpy_bitmap/syringe.npy\n",
            "https://storage.googleapis.com/quickdraw_dataset/full/numpy_bitmap/stop%20sign.npy\n",
            "https://storage.googleapis.com/quickdraw_dataset/full/numpy_bitmap/mountain.npy\n",
            "https://storage.googleapis.com/quickdraw_dataset/full/numpy_bitmap/smiley%20face.npy\n",
            "https://storage.googleapis.com/quickdraw_dataset/full/numpy_bitmap/apple.npy\n",
            "https://storage.googleapis.com/quickdraw_dataset/full/numpy_bitmap/bed.npy\n",
            "https://storage.googleapis.com/quickdraw_dataset/full/numpy_bitmap/shorts.npy\n",
            "https://storage.googleapis.com/quickdraw_dataset/full/numpy_bitmap/broom.npy\n",
            "https://storage.googleapis.com/quickdraw_dataset/full/numpy_bitmap/diving%20board.npy\n",
            "https://storage.googleapis.com/quickdraw_dataset/full/numpy_bitmap/flower.npy\n",
            "https://storage.googleapis.com/quickdraw_dataset/full/numpy_bitmap/spider.npy\n",
            "https://storage.googleapis.com/quickdraw_dataset/full/numpy_bitmap/cell%20phone.npy\n",
            "https://storage.googleapis.com/quickdraw_dataset/full/numpy_bitmap/car.npy\n",
            "https://storage.googleapis.com/quickdraw_dataset/full/numpy_bitmap/camera.npy\n",
            "https://storage.googleapis.com/quickdraw_dataset/full/numpy_bitmap/tree.npy\n",
            "https://storage.googleapis.com/quickdraw_dataset/full/numpy_bitmap/square.npy\n",
            "https://storage.googleapis.com/quickdraw_dataset/full/numpy_bitmap/moon.npy\n",
            "https://storage.googleapis.com/quickdraw_dataset/full/numpy_bitmap/radio.npy\n",
            "https://storage.googleapis.com/quickdraw_dataset/full/numpy_bitmap/hat.npy\n",
            "https://storage.googleapis.com/quickdraw_dataset/full/numpy_bitmap/pizza.npy\n",
            "https://storage.googleapis.com/quickdraw_dataset/full/numpy_bitmap/axe.npy\n",
            "https://storage.googleapis.com/quickdraw_dataset/full/numpy_bitmap/door.npy\n",
            "https://storage.googleapis.com/quickdraw_dataset/full/numpy_bitmap/tent.npy\n",
            "https://storage.googleapis.com/quickdraw_dataset/full/numpy_bitmap/umbrella.npy\n",
            "https://storage.googleapis.com/quickdraw_dataset/full/numpy_bitmap/line.npy\n",
            "https://storage.googleapis.com/quickdraw_dataset/full/numpy_bitmap/cup.npy\n",
            "https://storage.googleapis.com/quickdraw_dataset/full/numpy_bitmap/fan.npy\n",
            "https://storage.googleapis.com/quickdraw_dataset/full/numpy_bitmap/triangle.npy\n",
            "https://storage.googleapis.com/quickdraw_dataset/full/numpy_bitmap/basketball.npy\n",
            "https://storage.googleapis.com/quickdraw_dataset/full/numpy_bitmap/pillow.npy\n",
            "https://storage.googleapis.com/quickdraw_dataset/full/numpy_bitmap/scissors.npy\n",
            "https://storage.googleapis.com/quickdraw_dataset/full/numpy_bitmap/t-shirt.npy\n",
            "https://storage.googleapis.com/quickdraw_dataset/full/numpy_bitmap/tooth.npy\n",
            "https://storage.googleapis.com/quickdraw_dataset/full/numpy_bitmap/alarm%20clock.npy\n",
            "https://storage.googleapis.com/quickdraw_dataset/full/numpy_bitmap/paper%20clip.npy\n",
            "https://storage.googleapis.com/quickdraw_dataset/full/numpy_bitmap/spoon.npy\n",
            "https://storage.googleapis.com/quickdraw_dataset/full/numpy_bitmap/microphone.npy\n",
            "https://storage.googleapis.com/quickdraw_dataset/full/numpy_bitmap/candle.npy\n",
            "https://storage.googleapis.com/quickdraw_dataset/full/numpy_bitmap/pencil.npy\n",
            "https://storage.googleapis.com/quickdraw_dataset/full/numpy_bitmap/envelope.npy\n",
            "https://storage.googleapis.com/quickdraw_dataset/full/numpy_bitmap/saw.npy\n",
            "https://storage.googleapis.com/quickdraw_dataset/full/numpy_bitmap/frying%20pan.npy\n",
            "https://storage.googleapis.com/quickdraw_dataset/full/numpy_bitmap/screwdriver.npy\n",
            "https://storage.googleapis.com/quickdraw_dataset/full/numpy_bitmap/helmet.npy\n",
            "https://storage.googleapis.com/quickdraw_dataset/full/numpy_bitmap/bridge.npy\n",
            "https://storage.googleapis.com/quickdraw_dataset/full/numpy_bitmap/light%20bulb.npy\n",
            "https://storage.googleapis.com/quickdraw_dataset/full/numpy_bitmap/ceiling%20fan.npy\n",
            "https://storage.googleapis.com/quickdraw_dataset/full/numpy_bitmap/key.npy\n",
            "https://storage.googleapis.com/quickdraw_dataset/full/numpy_bitmap/donut.npy\n",
            "https://storage.googleapis.com/quickdraw_dataset/full/numpy_bitmap/bird.npy\n",
            "https://storage.googleapis.com/quickdraw_dataset/full/numpy_bitmap/circle.npy\n",
            "https://storage.googleapis.com/quickdraw_dataset/full/numpy_bitmap/beard.npy\n",
            "https://storage.googleapis.com/quickdraw_dataset/full/numpy_bitmap/coffee%20cup.npy\n",
            "https://storage.googleapis.com/quickdraw_dataset/full/numpy_bitmap/butterfly.npy\n",
            "https://storage.googleapis.com/quickdraw_dataset/full/numpy_bitmap/bench.npy\n",
            "https://storage.googleapis.com/quickdraw_dataset/full/numpy_bitmap/rifle.npy\n",
            "https://storage.googleapis.com/quickdraw_dataset/full/numpy_bitmap/cat.npy\n",
            "https://storage.googleapis.com/quickdraw_dataset/full/numpy_bitmap/sock.npy\n",
            "https://storage.googleapis.com/quickdraw_dataset/full/numpy_bitmap/ice%20cream.npy\n",
            "https://storage.googleapis.com/quickdraw_dataset/full/numpy_bitmap/moustache.npy\n",
            "https://storage.googleapis.com/quickdraw_dataset/full/numpy_bitmap/suitcase.npy\n",
            "https://storage.googleapis.com/quickdraw_dataset/full/numpy_bitmap/hammer.npy\n",
            "https://storage.googleapis.com/quickdraw_dataset/full/numpy_bitmap/rainbow.npy\n",
            "https://storage.googleapis.com/quickdraw_dataset/full/numpy_bitmap/knife.npy\n",
            "https://storage.googleapis.com/quickdraw_dataset/full/numpy_bitmap/cookie.npy\n",
            "https://storage.googleapis.com/quickdraw_dataset/full/numpy_bitmap/baseball.npy\n",
            "https://storage.googleapis.com/quickdraw_dataset/full/numpy_bitmap/lightning.npy\n",
            "https://storage.googleapis.com/quickdraw_dataset/full/numpy_bitmap/bicycle.npy\n"
          ],
          "name": "stdout"
        }
      ]
    },
    {
      "metadata": {
        "id": "-cfMLaCG6wpG",
        "colab_type": "text"
      },
      "cell_type": "markdown",
      "source": [
        "### 查看类别情况\n",
        "> 相关类名进行了汉化处理"
      ]
    },
    {
      "metadata": {
        "id": "_ygU18OI6wpH",
        "colab_type": "code",
        "colab": {
          "base_uri": "https://localhost:8080/",
          "height": 50
        },
        "outputId": "0a480348-ac43-467f-de36-8444b346ca96"
      },
      "cell_type": "code",
      "source": [
        "!wget https://github.com/ddebby/labs/blob/master/class_names.txt\n",
        "f = open(\"class_names.txt\",\"r\")\n",
        "# And for reading use\n",
        "classes = f.readlines()\n",
        "f.close()\n",
        "\n",
        "classes = [c.replace('\\n','').replace(' ','_') for c in classes]"
      ],
      "execution_count": 6,
      "outputs": [
        {
          "output_type": "stream",
          "text": [
            "\n",
            "Redirecting output to ‘wget-log.2’.\n"
          ],
          "name": "stdout"
        }
      ]
    },
    {
      "metadata": {
        "id": "QMYvhn5F6wpK",
        "colab_type": "code",
        "colab": {},
        "outputId": "96a484a3-cfb6-4448-d9d0-b89831819d9a"
      },
      "cell_type": "code",
      "source": [
        "classes"
      ],
      "execution_count": 0,
      "outputs": [
        {
          "output_type": "execute_result",
          "data": {
            "text/plain": [
              "['螺丝刀',\n",
              " '手表',\n",
              " '蝴蝶',\n",
              " '刀剑',\n",
              " '猫',\n",
              " '猎枪',\n",
              " '眼睛',\n",
              " '棒棒糖',\n",
              " '棒球',\n",
              " '红绿灯',\n",
              " '太阳',\n",
              " '钢盔',\n",
              " '桥',\n",
              " '闹钟',\n",
              " '鼓',\n",
              " '书',\n",
              " '扫帚',\n",
              " '风扇',\n",
              " '剪刀',\n",
              " '云',\n",
              " '帐篷',\n",
              " '钟表',\n",
              " '耳机(头戴)',\n",
              " '自行车',\n",
              " '停止标志',\n",
              " '桌子',\n",
              " '甜甜圈',\n",
              " '雨伞',\n",
              " '笑脸',\n",
              " '枕头',\n",
              " '床',\n",
              " '锯',\n",
              " '电灯泡',\n",
              " '铁锹',\n",
              " '鸟',\n",
              " '注射器',\n",
              " '咖啡杯',\n",
              " '月亮',\n",
              " '冰激凌',\n",
              " '胡须',\n",
              " '手机',\n",
              " '短裤',\n",
              " '铁砧',\n",
              " '收音机',\n",
              " '椅子',\n",
              " '星星',\n",
              " '门',\n",
              " '人脸',\n",
              " '蘑菇',\n",
              " '树',\n",
              " '来福枪',\n",
              " '相机',\n",
              " '闪电',\n",
              " '花',\n",
              " '篮球',\n",
              " '轮子',\n",
              " '锤子',\n",
              " '帽子',\n",
              " '小刀',\n",
              " '跳水板',\n",
              " '正方形',\n",
              " '茶杯',\n",
              " '山',\n",
              " '苹果',\n",
              " '汤匙',\n",
              " '钥匙',\n",
              " '铅笔',\n",
              " '直线',\n",
              " '梯子',\n",
              " '三角形',\n",
              " 'T恤',\n",
              " '哑铃',\n",
              " '麦克风',\n",
              " '蛇',\n",
              " '短裤',\n",
              " '手提箱',\n",
              " '笔记本电脑',\n",
              " '回形针',\n",
              " '彩虹',\n",
              " '蜡烛',\n",
              " '面包',\n",
              " '蜘蛛',\n",
              " '信封',\n",
              " '圆圈',\n",
              " '电源插座',\n",
              " '牙齿',\n",
              " '热狗',\n",
              " '煎锅',\n",
              " '长凳',\n",
              " '吊扇',\n",
              " '网球拍',\n",
              " '汽车',\n",
              " '胡须',\n",
              " '斧子',\n",
              " '棒球球棒',\n",
              " '披萨',\n",
              " '葡萄',\n",
              " '眼睛',\n",
              " '饼干',\n",
              " '飞机']"
            ]
          },
          "metadata": {
            "tags": []
          },
          "execution_count": 7
        }
      ]
    },
    {
      "metadata": {
        "id": "-f3KiFfA6wpQ",
        "colab_type": "text"
      },
      "cell_type": "markdown",
      "source": [
        "### 查看文件\n",
        "所有文件都是以`.npy`的格式存储在 `data`目录下"
      ]
    },
    {
      "metadata": {
        "id": "ysr6riHL6wpR",
        "colab_type": "code",
        "colab": {
          "base_uri": "https://localhost:8080/",
          "height": 403
        },
        "outputId": "84184542-e11c-4081-9231-8812af72ddae"
      },
      "cell_type": "code",
      "source": [
        "!ls data/ -l --b=m | more"
      ],
      "execution_count": 9,
      "outputs": [
        {
          "output_type": "stream",
          "text": [
            "total 12485M\n",
            "-rw-r--r-- 1 root root 114M Sep  9 06:08 airplane.npy\n",
            "-rw-r--r-- 1 root root  93M Sep  9 06:10 alarm_clock.npy\n",
            "-rw-r--r-- 1 root root  40M Sep  9 05:45 alarm_clock.npy.zip\n",
            "-rw-r--r-- 1 root root  95M Sep  9 06:08 anvil.npy\n",
            "-rw-r--r-- 1 root root  29M Sep  9 05:46 anvil.npy.zip\n",
            "-rw-r--r-- 1 root root 109M Sep  9 06:09 apple.npy\n",
            "-rw-r--r-- 1 root root  37M Sep  9 05:34 apple.npy.zip\n",
            "-rw-r--r-- 1 root root  93M Sep  9 06:10 axe.npy\n",
            "-rw-r--r-- 1 root root  28M Sep  9 05:43 axe.npy.zip\n",
            "-rw-r--r-- 1 root root  93M Sep  9 06:08 baseball_bat.npy\n",
            "-rw-r--r-- 1 root root  26M Sep  9 05:19 baseball_bat.npy.zip\n",
            "-rw-r--r-- 1 root root 102M Sep  9 06:11 baseball.npy\n",
            "-rw-r--r-- 1 root root 101M Sep  9 06:10 basketball.npy\n",
            "-rw-r--r-- 1 root root 124M Sep  9 06:11 beard.npy\n",
            "-rw-r--r-- 1 root root  86M Sep  9 06:09 bed.npy\n",
            "-rw-r--r-- 1 root root  26M Sep  9 05:36 bed.npy.zip\n",
            "-rw-r--r-- 1 root root  97M Sep  9 06:11 bench.npy\n",
            "-rw-r--r-- 1 root root  25M Sep  9 06:10 bench.npy.zip\n",
            "-rw-r--r-- 1 root root  95M Sep  9 06:11 bicycle.npy\n",
            "-rw-r--r-- 1 root root 100M Sep  9 06:11 bird.npy\n",
            "-rw-r--r-- 1 root root  33M Sep  9 05:48 bird.npy.zip\n",
            "-rw-r--r-- 1 root root  90M Sep  9 06:08 book.npy\n",
            "\u001b[K"
          ],
          "name": "stdout"
        }
      ]
    },
    {
      "metadata": {
        "id": "uEdnbBVXAI-X",
        "colab_type": "text"
      },
      "cell_type": "markdown",
      "source": [
        "## 2. 导入基本模块"
      ]
    },
    {
      "metadata": {
        "id": "J2FYrPgOKh6t",
        "colab_type": "code",
        "colab": {}
      },
      "cell_type": "code",
      "source": [
        "import os\n",
        "import glob\n",
        "import numpy as np\n",
        "from tensorflow.keras import layers\n",
        "from tensorflow import keras \n",
        "import tensorflow as tf"
      ],
      "execution_count": 0,
      "outputs": []
    },
    {
      "metadata": {
        "id": "4afZ0x-h6wpY",
        "colab_type": "code",
        "colab": {
          "base_uri": "https://localhost:8080/",
          "height": 34
        },
        "outputId": "cc4b9482-91a4-42c9-b597-0053c968c8f1"
      },
      "cell_type": "code",
      "source": [
        "print(tf.__version__)"
      ],
      "execution_count": 12,
      "outputs": [
        {
          "output_type": "stream",
          "text": [
            "1.10.1\n"
          ],
          "name": "stdout"
        }
      ]
    },
    {
      "metadata": {
        "id": "mq6y6Mkv-iWV",
        "colab_type": "code",
        "colab": {
          "base_uri": "https://localhost:8080/",
          "height": 34
        },
        "outputId": "60fb87ba-fd15-4833-8b07-288ed306c92e"
      },
      "cell_type": "code",
      "source": [
        "print(keras.__version__)"
      ],
      "execution_count": 13,
      "outputs": [
        {
          "output_type": "stream",
          "text": [
            "2.1.6-tf\n"
          ],
          "name": "stdout"
        }
      ]
    },
    {
      "metadata": {
        "id": "6o30ipBPAQ5Y",
        "colab_type": "text"
      },
      "cell_type": "markdown",
      "source": [
        "## 3. 加载数据 "
      ]
    },
    {
      "metadata": {
        "id": "UBq3GXEKAYuO",
        "colab_type": "text"
      },
      "cell_type": "markdown",
      "source": [
        "每个类别的数据在模型上可用作形状为 [N，784] 的 numpy 数组，其中 N 是该特定类的图像数。"
      ]
    },
    {
      "metadata": {
        "id": "6HEIgQNHYQnl",
        "colab_type": "code",
        "colab": {}
      },
      "cell_type": "code",
      "source": [
        "def load_data(root, vfold_ratio=0.2, max_items_per_class= 4000 ):\n",
        "    all_files = glob.glob(os.path.join(root, '*.npy'))\n",
        "\n",
        "    #initialize variables \n",
        "    x = np.empty([0, 784])\n",
        "    y = np.empty([0])\n",
        "    class_names = []\n",
        "\n",
        "    #load each data file \n",
        "    for idx, file in enumerate(all_files):\n",
        "        data = np.load(file)\n",
        "        data = data[0: max_items_per_class, :]\n",
        "        labels = np.full(data.shape[0], idx)\n",
        "\n",
        "        x = np.concatenate((x, data), axis=0)\n",
        "        y = np.append(y, labels)\n",
        "\n",
        "        class_name, ext = os.path.splitext(os.path.basename(file))\n",
        "        class_names.append(class_name)\n",
        "\n",
        "    data = None\n",
        "    labels = None\n",
        "    \n",
        "    #randomize the dataset \n",
        "    permutation = np.random.permutation(y.shape[0])\n",
        "    x = x[permutation, :]\n",
        "    y = y[permutation]\n",
        "\n",
        "    #separate into training and testing \n",
        "    vfold_size = int(x.shape[0]/100*(vfold_ratio*100))\n",
        "\n",
        "    x_test = x[0:vfold_size, :]\n",
        "    y_test = y[0:vfold_size]\n",
        "\n",
        "    x_train = x[vfold_size:x.shape[0], :]\n",
        "    y_train = y[vfold_size:y.shape[0]]\n",
        "    return x_train, y_train, x_test, y_test, class_names"
      ],
      "execution_count": 0,
      "outputs": []
    },
    {
      "metadata": {
        "id": "K6uUjN-WL2Y9",
        "colab_type": "code",
        "colab": {}
      },
      "cell_type": "code",
      "source": [
        "x_train, y_train, x_test, y_test, class_names = load_data('data')\n",
        "num_classes = len(class_names)\n",
        "image_size = 28"
      ],
      "execution_count": 0,
      "outputs": []
    },
    {
      "metadata": {
        "id": "VhGEDS0SMgLK",
        "colab_type": "code",
        "colab": {
          "base_uri": "https://localhost:8080/",
          "height": 34
        },
        "outputId": "ec7a513b-b937-4b94-b95e-e69451e0ad55"
      },
      "cell_type": "code",
      "source": [
        "print(len(x_train),len(x_test))"
      ],
      "execution_count": 18,
      "outputs": [
        {
          "output_type": "stream",
          "text": [
            "320000 80000\n"
          ],
          "name": "stdout"
        }
      ]
    },
    {
      "metadata": {
        "id": "SaXAfkEj_LvN",
        "colab_type": "code",
        "colab": {
          "base_uri": "https://localhost:8080/",
          "height": 34
        },
        "outputId": "d588b8ae-234f-423c-9832-248798ff9079"
      },
      "cell_type": "code",
      "source": [
        "x_train.shape"
      ],
      "execution_count": 17,
      "outputs": [
        {
          "output_type": "execute_result",
          "data": {
            "text/plain": [
              "(320000, 784)"
            ]
          },
          "metadata": {
            "tags": []
          },
          "execution_count": 17
        }
      ]
    },
    {
      "metadata": {
        "id": "rNZmQvBWBBHE",
        "colab_type": "text"
      },
      "cell_type": "markdown",
      "source": [
        "### 随机查看一组数据"
      ]
    },
    {
      "metadata": {
        "id": "KfpDaHRkyMQC",
        "colab_type": "code",
        "colab": {
          "base_uri": "https://localhost:8080/",
          "height": 282
        },
        "outputId": "a18d7d98-eb29-4cfe-d1fe-4aa0e24a2734"
      },
      "cell_type": "code",
      "source": [
        "import matplotlib.pyplot as plt\n",
        "from random import randint\n",
        "%matplotlib inline  \n",
        "idx = randint(0, len(x_train))\n",
        "plt.imshow(x_train[idx].reshape(28,28)) \n",
        "print(class_names[int(y_train[idx].item())])"
      ],
      "execution_count": 21,
      "outputs": [
        {
          "output_type": "stream",
          "text": [
            "bread\n"
          ],
          "name": "stdout"
        },
        {
          "output_type": "display_data",
          "data": {
            "image/png": "[encoded data removed]",
            "text/plain": [
              "<matplotlib.figure.Figure at 0x7fe4f93504a8>"
            ]
          },
          "metadata": {
            "tags": []
          }
        }
      ]
    },
    {
      "metadata": {
        "id": "n8InHz5NBFrV",
        "colab_type": "text"
      },
      "cell_type": "markdown",
      "source": [
        "### 数据预处理\n",
        "- 将图像数据存储格式转化为[28,28,1]的矩阵表示；\n",
        "- 将标签数据转化为One-hot表示，每个类别使用一个100维的向量描述。"
      ]
    },
    {
      "metadata": {
        "id": "p2GHUq7D2r9e",
        "colab_type": "code",
        "colab": {}
      },
      "cell_type": "code",
      "source": [
        "# Reshape and normalize\n",
        "x_train = x_train.reshape(x_train.shape[0], image_size, image_size, 1).astype('float32')\n",
        "x_test = x_test.reshape(x_test.shape[0], image_size, image_size, 1).astype('float32')\n",
        "\n",
        "x_train /= 255.0\n",
        "x_test /= 255.0\n",
        "\n",
        "# Convert class vectors to class matrices\n",
        "y_train = keras.utils.to_categorical(y_train, num_classes)\n",
        "y_test = keras.utils.to_categorical(y_test, num_classes)"
      ],
      "execution_count": 0,
      "outputs": []
    },
    {
      "metadata": {
        "id": "ZZ8sKaEJAABj",
        "colab_type": "code",
        "colab": {
          "base_uri": "https://localhost:8080/",
          "height": 34
        },
        "outputId": "420acc53-ecfa-4630-92e1-7150f31838f6"
      },
      "cell_type": "code",
      "source": [
        "print(x_train.shape,y_train.shape)"
      ],
      "execution_count": 23,
      "outputs": [
        {
          "output_type": "stream",
          "text": [
            "(320000, 28, 28, 1) (320000, 100)\n"
          ],
          "name": "stdout"
        }
      ]
    },
    {
      "metadata": {
        "id": "rL6XAb4hBMSc",
        "colab_type": "text"
      },
      "cell_type": "markdown",
      "source": [
        "## 4. 建模\n",
        "我们将创建一个简单的 CNN。 请注意，参数数量越少，模型越简单越好。 实际上，我们将在浏览器转换后运行模型，并且我们希望让模型快速运行并进行预测。 以下模型包含 3 个转换层和 2 个密集层。"
      ]
    },
    {
      "metadata": {
        "id": "uYUVV2wf2z8H",
        "colab_type": "code",
        "colab": {
          "base_uri": "https://localhost:8080/",
          "height": 454
        },
        "outputId": "6f41b39e-0516-4011-de44-968cf4ebab09"
      },
      "cell_type": "code",
      "source": [
        "# Define model\n",
        "model = keras.Sequential()\n",
        "model.add(layers.Convolution2D(16, (3, 3),\n",
        "                        padding='same',\n",
        "                        input_shape=x_train.shape[1:], activation='relu'))\n",
        "model.add(layers.MaxPooling2D(pool_size=(2, 2)))\n",
        "model.add(layers.Convolution2D(32, (3, 3), padding='same', activation= 'relu'))\n",
        "model.add(layers.MaxPooling2D(pool_size=(2, 2)))\n",
        "model.add(layers.Convolution2D(64, (3, 3), padding='same', activation= 'relu'))\n",
        "model.add(layers.MaxPooling2D(pool_size =(2,2)))\n",
        "model.add(layers.Flatten())\n",
        "model.add(layers.Dense(128, activation='relu'))\n",
        "model.add(layers.Dense(100, activation='softmax')) \n",
        "# Train model\n",
        "adam = tf.train.AdamOptimizer()\n",
        "model.compile(loss='categorical_crossentropy',\n",
        "              optimizer=adam,\n",
        "              metrics=['top_k_categorical_accuracy'])\n",
        "print(model.summary())"
      ],
      "execution_count": 24,
      "outputs": [
        {
          "output_type": "stream",
          "text": [
            "_________________________________________________________________\n",
            "Layer (type)                 Output Shape              Param #   \n",
            "=================================================================\n",
            "conv2d (Conv2D)              (None, 28, 28, 16)        160       \n",
            "_________________________________________________________________\n",
            "max_pooling2d (MaxPooling2D) (None, 14, 14, 16)        0         \n",
            "_________________________________________________________________\n",
            "conv2d_1 (Conv2D)            (None, 14, 14, 32)        4640      \n",
            "_________________________________________________________________\n",
            "max_pooling2d_1 (MaxPooling2 (None, 7, 7, 32)          0         \n",
            "_________________________________________________________________\n",
            "conv2d_2 (Conv2D)            (None, 7, 7, 64)          18496     \n",
            "_________________________________________________________________\n",
            "max_pooling2d_2 (MaxPooling2 (None, 3, 3, 64)          0         \n",
            "_________________________________________________________________\n",
            "flatten (Flatten)            (None, 576)               0         \n",
            "_________________________________________________________________\n",
            "dense (Dense)                (None, 128)               73856     \n",
            "_________________________________________________________________\n",
            "dense_1 (Dense)              (None, 100)               12900     \n",
            "=================================================================\n",
            "Total params: 110,052\n",
            "Trainable params: 110,052\n",
            "Non-trainable params: 0\n",
            "_________________________________________________________________\n",
            "None\n"
          ],
          "name": "stdout"
        }
      ]
    },
    {
      "metadata": {
        "id": "3IIM1I3KBI5j",
        "colab_type": "code",
        "colab": {}
      },
      "cell_type": "code",
      "source": [
        ""
      ],
      "execution_count": 0,
      "outputs": []
    },
    {
      "metadata": {
        "id": "_YRSRkOyBP1P",
        "colab_type": "text"
      },
      "cell_type": "markdown",
      "source": [
        "## 5.训练\n",
        "我们基于 5 个 epochs 和 256 个 batch 训练模型， 40-50s一个epoch，总的训练时间大概在5分钟左右"
      ]
    },
    {
      "metadata": {
        "id": "7OMEJ7kF3lsP",
        "colab_type": "code",
        "colab": {
          "base_uri": "https://localhost:8080/",
          "height": 218
        },
        "outputId": "c2026d76-fde6-4d3b-cf28-7e38fa66c088"
      },
      "cell_type": "code",
      "source": [
        "model.fit(x = x_train, y = y_train, validation_split=0.1, batch_size = 256, verbose=2, epochs=5)"
      ],
      "execution_count": 41,
      "outputs": [
        {
          "output_type": "stream",
          "text": [
            "Train on 288000 samples, validate on 32000 samples\n",
            "Epoch 1/5\n",
            " - 50s - loss: 1.9890 - top_k_categorical_accuracy: 0.7720 - val_loss: 1.4382 - val_top_k_categorical_accuracy: 0.8732\n",
            "Epoch 2/5\n",
            " - 39s - loss: 1.2849 - top_k_categorical_accuracy: 0.8880 - val_loss: 1.1960 - val_top_k_categorical_accuracy: 0.8993\n",
            "Epoch 3/5\n",
            " - 48s - loss: 1.1136 - top_k_categorical_accuracy: 0.9067 - val_loss: 1.0889 - val_top_k_categorical_accuracy: 0.9097\n",
            "Epoch 4/5\n",
            " - 46s - loss: 1.0200 - top_k_categorical_accuracy: 0.9168 - val_loss: 1.0231 - val_top_k_categorical_accuracy: 0.9167\n",
            "Epoch 5/5\n",
            " - 47s - loss: 0.9569 - top_k_categorical_accuracy: 0.9234 - val_loss: 0.9696 - val_top_k_categorical_accuracy: 0.9225\n"
          ],
          "name": "stdout"
        },
        {
          "output_type": "execute_result",
          "data": {
            "text/plain": [
              "<tensorflow.python.keras.callbacks.History at 0x7fe4f7248a58>"
            ]
          },
          "metadata": {
            "tags": []
          },
          "execution_count": 41
        }
      ]
    },
    {
      "metadata": {
        "id": "d2KztY7qEn9_",
        "colab_type": "text"
      },
      "cell_type": "markdown",
      "source": [
        "## 6. 测试"
      ]
    },
    {
      "metadata": {
        "id": "ssaZczS7DxeA",
        "colab_type": "code",
        "colab": {
          "base_uri": "https://localhost:8080/",
          "height": 34
        },
        "outputId": "00a491bf-d38d-4231-f1ae-f8c1c9878b56"
      },
      "cell_type": "code",
      "source": [
        "score = model.evaluate(x_test, y_test, verbose=0)\n",
        "print('Test accuarcy: {:0.2f}%'.format(score[1] * 100))"
      ],
      "execution_count": 42,
      "outputs": [
        {
          "output_type": "stream",
          "text": [
            "Test accuarcy: 92.17%\n"
          ],
          "name": "stdout"
        }
      ]
    },
    {
      "metadata": {
        "id": "9xBM_w0VBbNr",
        "colab_type": "text"
      },
      "cell_type": "markdown",
      "source": [
        "## 7. 推理 "
      ]
    },
    {
      "metadata": {
        "id": "nH3JfoiYHdpk",
        "colab_type": "code",
        "colab": {
          "base_uri": "https://localhost:8080/",
          "height": 282
        },
        "outputId": "4a65c582-03c8-4c47-cb28-fb802e4c6058"
      },
      "cell_type": "code",
      "source": [
        "import matplotlib.pyplot as plt\n",
        "from random import randint\n",
        "%matplotlib inline  \n",
        "idx = randint(0, len(x_test))\n",
        "img = x_test[idx]\n",
        "plt.imshow(img.squeeze()) \n",
        "pred = model.predict(np.expand_dims(img, axis=0))[0]\n",
        "ind = (-pred).argsort()[:5]\n",
        "latex = [class_names[x] for x in ind]\n",
        "print(latex)"
      ],
      "execution_count": 45,
      "outputs": [
        {
          "output_type": "stream",
          "text": [
            "['shorts', 'pants', 'tent', 'power_outlet', 'square']\n"
          ],
          "name": "stdout"
        },
        {
          "output_type": "display_data",
          "data": {
            "image/png": "[encoded data removed]",
            "text/plain": [
              "<matplotlib.figure.Figure at 0x7fe4f6afa0f0>"
            ]
          },
          "metadata": {
            "tags": []
          }
        }
      ]
    },
    {
      "metadata": {
        "id": "_FvBO4266wqQ",
        "colab_type": "text"
      },
      "cell_type": "markdown",
      "source": [
        "## 8. 模型导出"
      ]
    },
    {
      "metadata": {
        "id": "YPp5D82YBhM-",
        "colab_type": "text"
      },
      "cell_type": "markdown",
      "source": [
        "### 存储标签名称"
      ]
    },
    {
      "metadata": {
        "id": "NoFI1msFYpCN",
        "colab_type": "code",
        "colab": {}
      },
      "cell_type": "code",
      "source": [
        "with open('class_names.txt', 'w') as file_handler:\n",
        "    for item in class_names:\n",
        "        file_handler.write(\"{}\\n\".format(item))"
      ],
      "execution_count": 0,
      "outputs": []
    },
    {
      "metadata": {
        "id": "mfJ6dpaDBpRx",
        "colab_type": "text"
      },
      "cell_type": "markdown",
      "source": [
        "###  安装TensorFlowJS"
      ]
    },
    {
      "metadata": {
        "id": "hJJDfp9mY9Xh",
        "colab_type": "code",
        "colab": {
          "base_uri": "https://localhost:8080/",
          "height": 739
        },
        "outputId": "9fd36210-71fb-413a-c90b-58abd3650105"
      },
      "cell_type": "code",
      "source": [
        "!pip install tensorflowjs "
      ],
      "execution_count": 48,
      "outputs": [
        {
          "output_type": "stream",
          "text": [
            "Collecting tensorflowjs\n",
            "  Downloading https://files.pythonhosted.org/packages/7d/96/20120de578fe12c9e25e2b08dcf472a47bb0704bd1c894893f1a1f7e532d/tensorflowjs-0.5.7-py3-none-any.whl\n",
            "Collecting numpy==1.14.1 (from tensorflowjs)\n",
            "\u001b[?25l  Downloading https://files.pythonhosted.org/packages/de/7d/348c5d8d44443656e76285aa97b828b6dbd9c10e5b9c0f7f98eff0ff70e4/numpy-1.14.1-cp36-cp36m-manylinux1_x86_64.whl (12.2MB)\n",
            "\u001b[K    100% |████████████████████████████████| 12.2MB 2.0MB/s \n",
            "\u001b[?25hRequirement already satisfied: six==1.11.0 in /usr/local/lib/python3.6/dist-packages (from tensorflowjs) (1.11.0)\n",
            "Collecting tensorflow-hub==0.1.0 (from tensorflowjs)\n",
            "\u001b[?25l  Downloading https://files.pythonhosted.org/packages/aa/8e/ab0d5cf0f2dc2ed1c645bf1cb4acc7beeb0be5a51ebb0c91cbb23eb1fe10/tensorflow_hub-0.1.0-py2.py3-none-any.whl (53kB)\n",
            "\u001b[K    100% |████████████████████████████████| 61kB 16.8MB/s \n",
            "\u001b[?25hRequirement already satisfied: h5py==2.8.0 in /usr/local/lib/python3.6/dist-packages (from tensorflowjs) (2.8.0)\n",
            "Collecting tensorflow==1.9.0 (from tensorflowjs)\n",
            "\u001b[?25l  Downloading https://files.pythonhosted.org/packages/86/95/274190b39950e1e9eef4b071acefea832ac3e2c19bb4b442fa54f3214d2e/tensorflow-1.9.0-cp36-cp36m-manylinux1_x86_64.whl (51.1MB)\n",
            "\u001b[K    100% |████████████████████████████████| 51.1MB 723kB/s \n",
            "\u001b[?25hRequirement already satisfied: keras==2.1.6 in /usr/local/lib/python3.6/dist-packages (from tensorflowjs) (2.1.6)\n",
            "Requirement already satisfied: protobuf>=3.4.0 in /usr/local/lib/python3.6/dist-packages (from tensorflow-hub==0.1.0->tensorflowjs) (3.6.1)\n",
            "Requirement already satisfied: absl-py>=0.1.6 in /usr/local/lib/python3.6/dist-packages (from tensorflow==1.9.0->tensorflowjs) (0.4.1)\n",
            "Requirement already satisfied: grpcio>=1.8.6 in /usr/local/lib/python3.6/dist-packages (from tensorflow==1.9.0->tensorflowjs) (1.14.2)\n",
            "Collecting tensorboard<1.10.0,>=1.9.0 (from tensorflow==1.9.0->tensorflowjs)\n",
            "\u001b[?25l  Downloading https://files.pythonhosted.org/packages/9e/1f/3da43860db614e294a034e42d4be5c8f7f0d2c75dc1c428c541116d8cdab/tensorboard-1.9.0-py3-none-any.whl (3.3MB)\n",
            "\u001b[K    100% |████████████████████████████████| 3.3MB 4.4MB/s \n",
            "\u001b[?25hRequirement already satisfied: setuptools<=39.1.0 in /usr/local/lib/python3.6/dist-packages (from tensorflow==1.9.0->tensorflowjs) (39.1.0)\n",
            "Requirement already satisfied: termcolor>=1.1.0 in /usr/local/lib/python3.6/dist-packages (from tensorflow==1.9.0->tensorflowjs) (1.1.0)\n",
            "Requirement already satisfied: wheel>=0.26 in /usr/local/lib/python3.6/dist-packages (from tensorflow==1.9.0->tensorflowjs) (0.31.1)\n",
            "Requirement already satisfied: astor>=0.6.0 in /usr/local/lib/python3.6/dist-packages (from tensorflow==1.9.0->tensorflowjs) (0.7.1)\n",
            "Requirement already satisfied: gast>=0.2.0 in /usr/local/lib/python3.6/dist-packages (from tensorflow==1.9.0->tensorflowjs) (0.2.0)\n",
            "Requirement already satisfied: scipy>=0.14 in /usr/local/lib/python3.6/dist-packages (from keras==2.1.6->tensorflowjs) (0.19.1)\n",
            "Requirement already satisfied: pyyaml in /usr/local/lib/python3.6/dist-packages (from keras==2.1.6->tensorflowjs) (3.13)\n",
            "Requirement already satisfied: werkzeug>=0.11.10 in /usr/local/lib/python3.6/dist-packages (from tensorboard<1.10.0,>=1.9.0->tensorflow==1.9.0->tensorflowjs) (0.14.1)\n",
            "Requirement already satisfied: markdown>=2.6.8 in /usr/local/lib/python3.6/dist-packages (from tensorboard<1.10.0,>=1.9.0->tensorflow==1.9.0->tensorflowjs) (2.6.11)\n",
            "Installing collected packages: numpy, tensorflow-hub, tensorboard, tensorflow, tensorflowjs\n",
            "  Found existing installation: numpy 1.14.5\n",
            "    Uninstalling numpy-1.14.5:\n",
            "      Successfully uninstalled numpy-1.14.5\n",
            "  Found existing installation: tensorflow-hub 0.1.1\n",
            "    Uninstalling tensorflow-hub-0.1.1:\n",
            "      Successfully uninstalled tensorflow-hub-0.1.1\n",
            "  Found existing installation: tensorboard 1.10.0\n",
            "    Uninstalling tensorboard-1.10.0:\n",
            "      Successfully uninstalled tensorboard-1.10.0\n",
            "  Found existing installation: tensorflow 1.10.1\n",
            "    Uninstalling tensorflow-1.10.1:\n",
            "      Successfully uninstalled tensorflow-1.10.1\n",
            "Successfully installed numpy-1.14.1 tensorboard-1.9.0 tensorflow-1.9.0 tensorflow-hub-0.1.0 tensorflowjs-0.5.7\n"
          ],
          "name": "stdout"
        }
      ]
    },
    {
      "metadata": {
        "id": "HxZxMydzGKly",
        "colab_type": "text"
      },
      "cell_type": "markdown",
      "source": [
        "### 下载基本的Web框架"
      ]
    },
    {
      "metadata": {
        "id": "DgK-u9r1GQIg",
        "colab_type": "code",
        "colab": {
          "base_uri": "https://localhost:8080/",
          "height": 101
        },
        "outputId": "7a86439d-ddf2-44ec-8f49-e2a17bd08691"
      },
      "cell_type": "code",
      "source": [
        "!git clone https://github.com/ddebby/labs.git"
      ],
      "execution_count": 50,
      "outputs": [
        {
          "output_type": "stream",
          "text": [
            "Cloning into 'labs'...\n",
            "remote: Counting objects: 30, done.\u001b[K\n",
            "remote: Compressing objects: 100% (29/29), done.\u001b[K\n",
            "remote: Total 30 (delta 1), reused 30 (delta 1), pack-reused 0\u001b[K\n",
            "Unpacking objects: 100% (30/30), done.\n"
          ],
          "name": "stdout"
        }
      ]
    },
    {
      "metadata": {
        "id": "-oBl0ZKVB00d",
        "colab_type": "text"
      },
      "cell_type": "markdown",
      "source": [
        "### 存储和转换模型 "
      ]
    },
    {
      "metadata": {
        "id": "XVICB3TbZGb2",
        "colab_type": "code",
        "colab": {
          "base_uri": "https://localhost:8080/",
          "height": 54
        },
        "outputId": "4a252c63-70bc-4ed9-b2c1-f36ac1c749ed"
      },
      "cell_type": "code",
      "source": [
        "model.save('keras.h5')"
      ],
      "execution_count": 52,
      "outputs": [
        {
          "output_type": "stream",
          "text": [
            "WARNING:tensorflow:TensorFlow optimizers do not make it possible to access optimizer attributes or optimizer state after instantiation. As a result, we cannot save the optimizer as part of the model save file.You will have to compile your model again after loading it. Prefer using a Keras optimizer instead (see keras.io/optimizers).\n"
          ],
          "name": "stdout"
        }
      ]
    },
    {
      "metadata": {
        "id": "bTWWlGdWZOvs",
        "colab_type": "code",
        "colab": {
          "base_uri": "https://localhost:8080/",
          "height": 34
        },
        "outputId": "89fc5e48-2b7b-4866-b0b5-22ff1d0c48c7"
      },
      "cell_type": "code",
      "source": [
        "!tensorflowjs_converter --input_format keras keras.h5 labs/model/"
      ],
      "execution_count": 53,
      "outputs": [
        {
          "output_type": "stream",
          "text": [
            "Using TensorFlow backend.\n"
          ],
          "name": "stdout"
        }
      ]
    },
    {
      "metadata": {
        "id": "v29IGas3G4tR",
        "colab_type": "code",
        "colab": {
          "base_uri": "https://localhost:8080/",
          "height": 185
        },
        "outputId": "b0cfaad0-91f8-40e8-96c5-9e0d52c67ca3"
      },
      "cell_type": "code",
      "source": [
        "!ls -l labs/model"
      ],
      "execution_count": 56,
      "outputs": [
        {
          "output_type": "stream",
          "text": [
            "total 3792\n",
            "-rw-r--r-- 1 root root    1176 Sep  9 06:51 class_names_ar.txt\n",
            "-rw-r--r-- 1 root root     748 Sep  9 06:51 class_names.txt\n",
            "-rw-r--r-- 1 root root     760 Sep  9 06:51 class_names.txt.bak\n",
            "-rw-r--r-- 1 root root  440208 Sep  9 06:53 group1-shard1of1\n",
            "-rw-r--r-- 1 root root   18560 Sep  9 06:51 group2-shard1of1\n",
            "-rw-r--r-- 1 root root   73984 Sep  9 06:51 group3-shard1of1\n",
            "-rw-r--r-- 1 root root 3212288 Sep  9 06:51 group4-shard1of1\n",
            "-rw-r--r-- 1 root root  102800 Sep  9 06:51 group5-shard1of1\n",
            "-rw-r--r-- 1 root root    4619 Sep  9 06:53 model.json\n"
          ],
          "name": "stdout"
        }
      ]
    },
    {
      "metadata": {
        "id": "JKYxE2MEB6LV",
        "colab_type": "text"
      },
      "cell_type": "markdown",
      "source": [
        "### 压缩及获取"
      ]
    },
    {
      "metadata": {
        "id": "865-t79uaB63",
        "colab_type": "code",
        "colab": {}
      },
      "cell_type": "code",
      "source": [
        "!cp class_names.txt labs/model/class_names.txt"
      ],
      "execution_count": 0,
      "outputs": []
    },
    {
      "metadata": {
        "id": "GLC-MzW8ZXTa",
        "colab_type": "code",
        "colab": {
          "base_uri": "https://localhost:8080/",
          "height": 2167
        },
        "outputId": "6aa92223-1e55-43f4-f07f-582466186088"
      },
      "cell_type": "code",
      "source": [
        "!zip -r lab.zip labs "
      ],
      "execution_count": 58,
      "outputs": [
        {
          "output_type": "stream",
          "text": [
            "  adding: labs/ (stored 0%)\n",
            "  adding: labs/pie.css (deflated 58%)\n",
            "  adding: labs/.ipynb_checkpoints/ (stored 0%)\n",
            "  adding: labs/.ipynb_checkpoints/AI_Lab_Sketcher-checkpoint.ipynb (deflated 70%)\n",
            "  adding: labs/.ipynb_checkpoints/Untitled-checkpoint.ipynb (deflated 21%)\n",
            "  adding: labs/pics/ (stored 0%)\n",
            "  adding: labs/pics/1.png (deflated 2%)\n",
            "  adding: labs/pics/3.png (deflated 4%)\n",
            "  adding: labs/pics/config.png (deflated 8%)\n",
            "  adding: labs/pics/webserver4chrome.png (deflated 10%)\n",
            "  adding: labs/pics/2.jpg (deflated 20%)\n",
            "  adding: labs/AI_Lab_Sketcher.ipynb (deflated 64%)\n",
            "  adding: labs/main.js (deflated 65%)\n",
            "  adding: labs/index.html (deflated 56%)\n",
            "  adding: labs/class_names.txt (deflated 29%)\n",
            "  adding: labs/main.css (deflated 63%)\n",
            "  adding: labs/README.md (deflated 27%)\n",
            "  adding: labs/mini_classes.txt (deflated 41%)\n",
            "  adding: labs/pie.js (deflated 62%)\n",
            "  adding: labs/model/ (stored 0%)\n",
            "  adding: labs/model/group3-shard1of1 (deflated 7%)\n",
            "  adding: labs/model/group1-shard1of1 (deflated 7%)\n",
            "  adding: labs/model/group4-shard1of1 (deflated 7%)\n",
            "  adding: labs/model/group5-shard1of1 (deflated 7%)\n",
            "  adding: labs/model/group2-shard1of1 (deflated 7%)\n",
            "  adding: labs/model/class_names_ar.txt (deflated 52%)\n",
            "  adding: labs/model/class_names.txt (deflated 41%)\n",
            "  adding: labs/model/class_names.txt.bak (deflated 41%)\n",
            "  adding: labs/model/model.json (deflated 86%)\n",
            "  adding: labs/.git/ (stored 0%)\n",
            "  adding: labs/.git/logs/ (stored 0%)\n",
            "  adding: labs/.git/logs/HEAD (deflated 28%)\n",
            "  adding: labs/.git/logs/refs/ (stored 0%)\n",
            "  adding: labs/.git/logs/refs/remotes/ (stored 0%)\n",
            "  adding: labs/.git/logs/refs/remotes/origin/ (stored 0%)\n",
            "  adding: labs/.git/logs/refs/remotes/origin/HEAD (deflated 28%)\n",
            "  adding: labs/.git/logs/refs/heads/ (stored 0%)\n",
            "  adding: labs/.git/logs/refs/heads/master (deflated 28%)\n",
            "  adding: labs/.git/packed-refs (deflated 7%)\n",
            "  adding: labs/.git/index (deflated 47%)\n",
            "  adding: labs/.git/branches/ (stored 0%)\n",
            "  adding: labs/.git/HEAD (stored 0%)\n",
            "  adding: labs/.git/config (deflated 34%)\n",
            "  adding: labs/.git/hooks/ (stored 0%)\n",
            "  adding: labs/.git/hooks/prepare-commit-msg.sample (deflated 46%)\n",
            "  adding: labs/.git/hooks/pre-push.sample (deflated 50%)\n",
            "  adding: labs/.git/hooks/applypatch-msg.sample (deflated 42%)\n",
            "  adding: labs/.git/hooks/commit-msg.sample (deflated 44%)\n",
            "  adding: labs/.git/hooks/pre-commit.sample (deflated 43%)\n",
            "  adding: labs/.git/hooks/pre-receive.sample (deflated 40%)\n",
            "  adding: labs/.git/hooks/post-update.sample (deflated 27%)\n",
            "  adding: labs/.git/hooks/pre-rebase.sample (deflated 59%)\n",
            "  adding: labs/.git/hooks/pre-applypatch.sample (deflated 38%)\n",
            "  adding: labs/.git/hooks/update.sample (deflated 68%)\n",
            "  adding: labs/.git/objects/ (stored 0%)\n",
            "  adding: labs/.git/objects/88/ (stored 0%)\n",
            "  adding: labs/.git/objects/88/6d144252ac0af75b3c95f6fc0f8c001f14f9f5 (stored 0%)\n",
            "  adding: labs/.git/objects/ae/ (stored 0%)\n",
            "  adding: labs/.git/objects/ae/0a70a771f985aef2275c334d1548fe6ea7d543 (deflated 0%)\n",
            "  adding: labs/.git/objects/pack/ (stored 0%)\n",
            "  adding: labs/.git/objects/c1/ (stored 0%)\n",
            "  adding: labs/.git/objects/c1/24f0a773df82bcf27559bec17ed095c2994a0e (stored 0%)\n",
            "  adding: labs/.git/objects/c0/ (stored 0%)\n",
            "  adding: labs/.git/objects/c0/dad9ace703ae4f6eec85e14251feac35475ca6 (stored 0%)\n",
            "  adding: labs/.git/objects/6b/ (stored 0%)\n",
            "  adding: labs/.git/objects/6b/00d51785f147cd9d1cd14b61874161a4319fe0 (stored 0%)\n",
            "  adding: labs/.git/objects/47/ (stored 0%)\n",
            "  adding: labs/.git/objects/47/5c57a2ca99920009ffb20f5522ab95e24e2483 (stored 0%)\n",
            "  adding: labs/.git/objects/4b/ (stored 0%)\n",
            "  adding: labs/.git/objects/4b/755dc6082cd18c8d8b56532f4474a0b43ddbfb (stored 0%)\n",
            "  adding: labs/.git/objects/75/ (stored 0%)\n",
            "  adding: labs/.git/objects/75/fb9bdf657f6e27b8daa7589c110bd0ffa5eb75 (deflated 0%)\n",
            "  adding: labs/.git/objects/5b/ (stored 0%)\n",
            "  adding: labs/.git/objects/5b/abd440d78c90f7f661c1d54b50aec633da06b4 (deflated 0%)\n",
            "  adding: labs/.git/objects/b2/ (stored 0%)\n",
            "  adding: labs/.git/objects/b2/ea8daf130080eca4cf2ef02e7936610ba37f8c (deflated 0%)\n",
            "  adding: labs/.git/objects/ee/ (stored 0%)\n",
            "  adding: labs/.git/objects/ee/1db02080cb6059d91462383b63c3774c9f867c (stored 0%)\n",
            "  adding: labs/.git/objects/9f/ (stored 0%)\n",
            "  adding: labs/.git/objects/9f/894dd06293b2f771f9dfd9cc9afc5324f8100d (stored 0%)\n",
            "  adding: labs/.git/objects/a3/ (stored 0%)\n",
            "  adding: labs/.git/objects/a3/9470fc77c709b1e8e814033b8cbbd519e53658 (stored 0%)\n",
            "  adding: labs/.git/objects/1f/ (stored 0%)\n",
            "  adding: labs/.git/objects/1f/92e02c0a937f1998d519adf6efae58633831a3 (stored 0%)\n",
            "  adding: labs/.git/objects/ad/ (stored 0%)\n",
            "  adding: labs/.git/objects/ad/396f5a000432d3a7ada9daa3afe4654ce49b0f (stored 0%)\n",
            "  adding: labs/.git/objects/8e/ (stored 0%)\n",
            "  adding: labs/.git/objects/8e/5b27e9f4d49365b9124998a873abb5b836b288 (stored 0%)\n",
            "  adding: labs/.git/objects/d5/ (stored 0%)\n",
            "  adding: labs/.git/objects/d5/593c403711cf8ae63db7a7dadf784bd7b39c85 (deflated 0%)\n",
            "  adding: labs/.git/objects/85/ (stored 0%)\n",
            "  adding: labs/.git/objects/85/1e0dcb9be4e130eede9511d0321c432f0b3eee (deflated 0%)\n",
            "  adding: labs/.git/objects/29/ (stored 0%)\n",
            "  adding: labs/.git/objects/29/f9a2e33b4ffaf9afa8012ea89660cf2e152bf7 (stored 0%)\n",
            "  adding: labs/.git/objects/3e/ (stored 0%)\n",
            "  adding: labs/.git/objects/3e/9349da37caef16c89201e91e04da92e26eabcc (stored 0%)\n",
            "  adding: labs/.git/objects/70/ (stored 0%)\n",
            "  adding: labs/.git/objects/70/86e332534f2833c4a1dde4e09900c492768710 (deflated 0%)\n",
            "  adding: labs/.git/objects/2f/ (stored 0%)\n",
            "  adding: labs/.git/objects/2f/d64429bf421126b7000c94ce0f6fd186fbd01f (stored 0%)\n",
            "  adding: labs/.git/objects/34/ (stored 0%)\n",
            "  adding: labs/.git/objects/34/2d3f96d33246591b3b37ce7eef6eae9c6d28b1 (stored 0%)\n",
            "  adding: labs/.git/objects/12/ (stored 0%)\n",
            "  adding: labs/.git/objects/12/fad77b0e3abdc88bd4bc70661719b6f686b7cc (deflated 0%)\n",
            "  adding: labs/.git/objects/41/ (stored 0%)\n",
            "  adding: labs/.git/objects/41/5f5b91b55e365089887834061e2fb5b3185a61 (stored 0%)\n",
            "  adding: labs/.git/objects/info/ (stored 0%)\n",
            "  adding: labs/.git/objects/3b/ (stored 0%)\n",
            "  adding: labs/.git/objects/3b/7e81ffed1cbf5bf437490ae0120cbbcbdcb610 (stored 0%)\n",
            "  adding: labs/.git/objects/3a/ (stored 0%)\n",
            "  adding: labs/.git/objects/3a/7d9d2e2c0ec571d0775d237c2358265dc52ec7 (stored 0%)\n",
            "  adding: labs/.git/objects/ce/ (stored 0%)\n",
            "  adding: labs/.git/objects/ce/976037d26534f45c2c2b427a0c86fe500fa6be (stored 0%)\n",
            "  adding: labs/.git/objects/b4/ (stored 0%)\n",
            "  adding: labs/.git/objects/b4/a92411e2d17ee5e74cf391ef5f81b0fa27f2e0 (deflated 0%)\n",
            "  adding: labs/.git/objects/b0/ (stored 0%)\n",
            "  adding: labs/.git/objects/b0/6a2e5d046f68cc930db8e24f92d73bc36c1d02 (stored 0%)\n",
            "  adding: labs/.git/info/ (stored 0%)\n",
            "  adding: labs/.git/info/exclude (deflated 28%)\n",
            "  adding: labs/.git/refs/ (stored 0%)\n",
            "  adding: labs/.git/refs/remotes/ (stored 0%)\n",
            "  adding: labs/.git/refs/remotes/origin/ (stored 0%)\n",
            "  adding: labs/.git/refs/remotes/origin/HEAD (stored 0%)\n",
            "  adding: labs/.git/refs/tags/ (stored 0%)\n",
            "  adding: labs/.git/refs/heads/ (stored 0%)\n",
            "  adding: labs/.git/refs/heads/master (stored 0%)\n",
            "  adding: labs/.git/description (deflated 14%)\n",
            "  adding: labs/fabric.js (deflated 80%)\n"
          ],
          "name": "stdout"
        }
      ]
    },
    {
      "metadata": {
        "id": "4vfPR03xZZeD",
        "colab_type": "code",
        "colab": {}
      },
      "cell_type": "code",
      "source": [
        "from google.colab import files\n",
        "files.download('lab.zip')"
      ],
      "execution_count": 0,
      "outputs": []
    },
    {
      "metadata": {
        "id": "2Wo2NEIa6wqw",
        "colab_type": "text"
      },
      "cell_type": "markdown",
      "source": [
        "## 9.部署\n",
        "在本机环境部署需要搭建一个Web Server，可以使用Windows的IIS或者使用Chrome的Web Server插件，本试验简单对其使用做一个基本介绍，相关配置可以根据每个人的环境不同进行调整。"
      ]
    },
    {
      "metadata": {
        "id": "kQuvA_-d6wqw",
        "colab_type": "text"
      },
      "cell_type": "markdown",
      "source": [
        "### 使用Chrome的网络服务器（可选）\n",
        "1. 在Chrome浏览器中进入插件安装页面：[Web Server for Chrome](https://chrome.google.com/webstore/detail/web-server-for-chrome/ofhbbkphhbklhfoeikjpcbhemlocgigb/related?hl=en)\n",
        "![](https://github.com/ddebby/labs/blob/master/pics/webserver4chrome.png?raw=1)\n",
        "\n",
        "2. 配置Web Server for Chrome， 将文件目录定位到本地`index.html`所在目录，同时可以根据需求重新配置端口（默认为8887）\n",
        "\n",
        "![](https://github.com/ddebby/labs/blob/master/pics/config.png?raw=1)\n",
        "\n",
        "3. 可以通过访问本机的 http://127.0.0.1:8887 来访问完成的AI项目\n",
        "\n",
        "![](https://github.com/ddebby/labs/blob/master/pics/index.png?raw=1)"
      ]
    },
    {
      "metadata": {
        "id": "4eOEowUp6wqx",
        "colab_type": "code",
        "colab": {}
      },
      "cell_type": "code",
      "source": [
        ""
      ],
      "execution_count": 0,
      "outputs": []
    }
  ]
}